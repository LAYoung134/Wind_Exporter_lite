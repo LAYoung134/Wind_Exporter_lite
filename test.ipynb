{
 "cells": [
  {
   "cell_type": "code",
   "execution_count": 1,
   "metadata": {},
   "outputs": [
    {
     "name": "stdout",
     "output_type": "stream",
     "text": [
      "Welcome to use Wind Quant API for Python (WindPy)!\n",
      "\n",
      "COPYRIGHT (C) 2020 WIND INFORMATION CO., LTD. ALL RIGHTS RESERVED.\n",
      "IN NO CIRCUMSTANCE SHALL WIND BE RESPONSIBLE FOR ANY DAMAGES OR LOSSES CAUSED BY USING WIND QUANT API FOR Python.\n"
     ]
    },
    {
     "data": {
      "text/html": [
       "<div>\n",
       "<style scoped>\n",
       "    .dataframe tbody tr th:only-of-type {\n",
       "        vertical-align: middle;\n",
       "    }\n",
       "\n",
       "    .dataframe tbody tr th {\n",
       "        vertical-align: top;\n",
       "    }\n",
       "\n",
       "    .dataframe thead th {\n",
       "        text-align: right;\n",
       "    }\n",
       "</style>\n",
       "<table border=\"1\" class=\"dataframe\">\n",
       "  <thead>\n",
       "    <tr style=\"text-align: right;\">\n",
       "      <th></th>\n",
       "      <th>SEC_NAME</th>\n",
       "      <th>NAV</th>\n",
       "      <th>NAV_ADJ_RETURN1</th>\n",
       "      <th>RETURN_1M</th>\n",
       "      <th>RETURN_3M</th>\n",
       "      <th>RETURN_1Y</th>\n",
       "    </tr>\n",
       "  </thead>\n",
       "  <tbody>\n",
       "    <tr>\n",
       "      <th>2022-11-07</th>\n",
       "      <td>平安短债A</td>\n",
       "      <td>1.1488</td>\n",
       "      <td>0.008705</td>\n",
       "      <td>2.492929</td>\n",
       "      <td>1.922233</td>\n",
       "      <td>3.170184</td>\n",
       "    </tr>\n",
       "    <tr>\n",
       "      <th>2022-11-08</th>\n",
       "      <td>平安短债A</td>\n",
       "      <td>1.1486</td>\n",
       "      <td>-0.017409</td>\n",
       "      <td>2.283034</td>\n",
       "      <td>1.710601</td>\n",
       "      <td>3.124439</td>\n",
       "    </tr>\n",
       "    <tr>\n",
       "      <th>2022-11-09</th>\n",
       "      <td>平安短债A</td>\n",
       "      <td>1.1485</td>\n",
       "      <td>-0.008706</td>\n",
       "      <td>2.178233</td>\n",
       "      <td>1.710751</td>\n",
       "      <td>3.124719</td>\n",
       "    </tr>\n",
       "    <tr>\n",
       "      <th>2022-11-10</th>\n",
       "      <td>平安短债A</td>\n",
       "      <td>1.1482</td>\n",
       "      <td>-0.026121</td>\n",
       "      <td>1.031175</td>\n",
       "      <td>1.570145</td>\n",
       "      <td>3.070018</td>\n",
       "    </tr>\n",
       "    <tr>\n",
       "      <th>2022-11-11</th>\n",
       "      <td>平安短债A</td>\n",
       "      <td>1.1478</td>\n",
       "      <td>-0.034837</td>\n",
       "      <td>0.514333</td>\n",
       "      <td>1.500236</td>\n",
       "      <td>3.034111</td>\n",
       "    </tr>\n",
       "    <tr>\n",
       "      <th>2022-11-14</th>\n",
       "      <td>平安短债A</td>\n",
       "      <td>1.1463</td>\n",
       "      <td>-0.130685</td>\n",
       "      <td>-1.325670</td>\n",
       "      <td>0.974999</td>\n",
       "      <td>2.890225</td>\n",
       "    </tr>\n",
       "    <tr>\n",
       "      <th>2022-11-15</th>\n",
       "      <td>平安短债A</td>\n",
       "      <td>1.1453</td>\n",
       "      <td>-0.087237</td>\n",
       "      <td>-2.334451</td>\n",
       "      <td>0.416772</td>\n",
       "      <td>2.791240</td>\n",
       "    </tr>\n",
       "    <tr>\n",
       "      <th>2022-11-16</th>\n",
       "      <td>平安短债A</td>\n",
       "      <td>1.1443</td>\n",
       "      <td>-0.087313</td>\n",
       "      <td>-3.333787</td>\n",
       "      <td>-0.034663</td>\n",
       "      <td>2.683058</td>\n",
       "    </tr>\n",
       "    <tr>\n",
       "      <th>2022-11-17</th>\n",
       "      <td>平安短债A</td>\n",
       "      <td>1.1436</td>\n",
       "      <td>-0.061173</td>\n",
       "      <td>-4.420734</td>\n",
       "      <td>-0.277055</td>\n",
       "      <td>2.601830</td>\n",
       "    </tr>\n",
       "    <tr>\n",
       "      <th>2022-11-18</th>\n",
       "      <td>平安短债A</td>\n",
       "      <td>1.1438</td>\n",
       "      <td>0.017489</td>\n",
       "      <td>-4.321913</td>\n",
       "      <td>-0.242434</td>\n",
       "      <td>2.601363</td>\n",
       "    </tr>\n",
       "  </tbody>\n",
       "</table>\n",
       "</div>"
      ],
      "text/plain": [
       "           SEC_NAME     NAV  NAV_ADJ_RETURN1  RETURN_1M  RETURN_3M  RETURN_1Y\n",
       "2022-11-07    平安短债A  1.1488         0.008705   2.492929   1.922233   3.170184\n",
       "2022-11-08    平安短债A  1.1486        -0.017409   2.283034   1.710601   3.124439\n",
       "2022-11-09    平安短债A  1.1485        -0.008706   2.178233   1.710751   3.124719\n",
       "2022-11-10    平安短债A  1.1482        -0.026121   1.031175   1.570145   3.070018\n",
       "2022-11-11    平安短债A  1.1478        -0.034837   0.514333   1.500236   3.034111\n",
       "2022-11-14    平安短债A  1.1463        -0.130685  -1.325670   0.974999   2.890225\n",
       "2022-11-15    平安短债A  1.1453        -0.087237  -2.334451   0.416772   2.791240\n",
       "2022-11-16    平安短债A  1.1443        -0.087313  -3.333787  -0.034663   2.683058\n",
       "2022-11-17    平安短债A  1.1436        -0.061173  -4.420734  -0.277055   2.601830\n",
       "2022-11-18    平安短债A  1.1438         0.017489  -4.321913  -0.242434   2.601363"
      ]
     },
     "execution_count": 1,
     "metadata": {},
     "output_type": "execute_result"
    }
   ],
   "source": [
    "from WindPy import w\n",
    "from datetime import datetime, timedelta\n",
    "w.start()\n",
    "date = '2022-11-18'\n",
    "code = ['005754.OF', '005756.OF', '008911.OF', '008913.OF', '007935.OF', '007936.OF', '008696.OF', '004827.OF', '006851.OF']\n",
    "w.wsd(code[0], \"sec_name,nav,NAV_adj_return1,return_1m,return_3m,return_1y\", '2022-11-5', '2022-11-18', \"annualized=1\", usedf=True)[1]"
   ]
  },
  {
   "cell_type": "code",
   "execution_count": 7,
   "metadata": {},
   "outputs": [],
   "source": [
    "from WindPy import w\n",
    "import pandas as pd\n",
    "import numpy as np\n",
    "from datetime import datetime, timedelta\n",
    "try:\n",
    "    from typing import Literal\n",
    "except ImportError:\n",
    "    from typing_extensions import Literal\n",
    "from dateutil.relativedelta import relativedelta"
   ]
  },
  {
   "cell_type": "code",
   "execution_count": 5,
   "metadata": {},
   "outputs": [
    {
     "name": "stdout",
     "output_type": "stream",
     "text": [
      "Welcome to use Wind Quant API for Python (WindPy)!\n",
      "\n",
      "COPYRIGHT (C) 2020 WIND INFORMATION CO., LTD. ALL RIGHTS RESERVED.\n",
      "IN NO CIRCUMSTANCE SHALL WIND BE RESPONSIBLE FOR ANY DAMAGES OR LOSSES CAUSED BY USING WIND QUANT API FOR Python.\n"
     ]
    }
   ],
   "source": [
    "\n",
    "class Wind_Exporter:\n",
    "    \"\"\"\n",
    "    Wind_Exporter\n",
    "    =====\n",
    "    code: list\n",
    "        股票代码, 例如['000001.SZ', '000002.SZ']\n",
    "    indicator: str\n",
    "        指标, 例如'close'\n",
    "    method: str (default: 'wsd')\n",
    "        wsd: 单日期 \n",
    "        wss: 日期截面数据\n",
    "    Date_List: list (default: None)\n",
    "        日期列表, 例如['2020-01-01', '2020-01-02']\n",
    "    StartDate: str (default: None)\n",
    "        起始日期, 例如'2020-01-01'\n",
    "    EndDate: str (default: None)\n",
    "        结束日期, 例如'2020-01-02'\n",
    "    options: str (default: None)\n",
    "        选项, 遵循Wind API的options参数\n",
    "    \"\"\"\n",
    "\n",
    "    def __init__(self, code=None, indicator: str = None, method: Literal['wsd', 'wss'] = 'wsd', \n",
    "                    Date_List: list = None, StartDate: Literal['before1m', 'before1y', None] = None, EndDate=None, options=None):\n",
    "        self.method = method\n",
    "        self.code = code if isinstance(code, list) else [\n",
    "            i for i in code.split(',')]\n",
    "        self.EndDate = EndDate if EndDate else datetime.today().strftime('%Y-%m-%d')\n",
    "        self.Date_List = Date_List\n",
    "        self.StartDate = EndDate if StartDate is None else StartDate\n",
    "        self.set_date()\n",
    "        self.indicator = indicator\n",
    "        self.options = options\n",
    "        self.data = []\n",
    "\n",
    "    def __len__(self):\n",
    "        return len(self.data)\n",
    "\n",
    "    def __repr__(self):\n",
    "        return f'Wind_Exporter({self.code}, {self.indicator}, {self.method}, {self.Date_List}, {self.StartDate}, {self.EndDate}, {self.options}), With data length {len(self)}'\n",
    "\n",
    "    def check_connection(func):\n",
    "        if not w.isconnected():\n",
    "            w.start()\n",
    "        return func\n",
    "\n",
    "    @staticmethod\n",
    "    def create_date_col(df, date):\n",
    "        df['date'] = date\n",
    "        column = np.roll(np.arange(len(df.columns)), 1)\n",
    "        column[0], column[1] = column[1], column[0]\n",
    "        return df.iloc[:, column]\n",
    "    \n",
    "\n",
    "#my_dict = {'code':['005754.OF', '005756.OF', '008911.OF', '008913.OF', '007935.OF', '007936.OF', '008696.OF', '004827.OF', '006851.OF'],\n",
    "            # 'indicator':\"sec_name,nav_date,nav,NAV_adj_return1,return_1m,return_3m,return_1y\", 'options':\"annualized=1\", 'method':\"wsd\"}\n",
    "    @classmethod\n",
    "    def from_dict(cls, data: dict):\n",
    "        return cls(**data) \n",
    "        \n",
    "\n",
    "    def set_date(self):\n",
    "        date_before_1m = (datetime.strptime(self.EndDate, '%Y-%m-%d') -\n",
    "                          relativedelta(months=1) + relativedelta(days=1)).strftime('%Y%m%d')\n",
    "        date_before_1y = (datetime.strptime(self.EndDate, '%Y-%m-%d') -\n",
    "                          relativedelta(years=1) + relativedelta(days=1)).strftime('%Y%m%d')\n",
    "        if self.StartDate == 'before1m':\n",
    "            self.StartDate = date_before_1m\n",
    "        elif self.StartDate == 'before1y':\n",
    "            self.StartDate = date_before_1y\n",
    "        else:\n",
    "            pass\n",
    "\n",
    "    @check_connection\n",
    "    def get_data(self, output: Literal['df', 'excel'] = None, round_=None):\n",
    "        if self.method == 'wsd':\n",
    "            self.get_data_wsd()\n",
    "        elif self.method == 'wss':\n",
    "            self.get_data_wss()\n",
    "        else:\n",
    "            raise ValueError('method must be wsd or wss')\n",
    "\n",
    "        if round_ is not None:\n",
    "            for i in range(len(self.data)):\n",
    "                self.data[i] = self.data[i].round(round_)\n",
    "        if output == 'df':\n",
    "            return self.data\n",
    "        elif output == 'excel':\n",
    "            pass\n",
    "        else:\n",
    "            return self\n",
    "\n",
    "    def get_data_wsd(self):\n",
    "        if self.Date_List is None:\n",
    "            if self.StartDate == self.EndDate:\n",
    "                multi_data = []\n",
    "                for i in self.code:\n",
    "                    data_ = w.wsd(i, self.indicator, self.StartDate,\n",
    "                                  self.EndDate, options=self.options, usedf=True)\n",
    "                    multi_data.append(data_[1])\n",
    "                self.data.append(pd.concat(multi_data, axis=0))\n",
    "            else:\n",
    "                multi_data = []\n",
    "                for i in self.code:\n",
    "                    data_ = w.wsd(i, self.indicator, self.StartDate,\n",
    "                                  self.EndDate, options=self.options, usedf=True)\n",
    "                    multi_data.append(data_[1])\n",
    "                self.data.append(multi_data)\n",
    "        else:\n",
    "            for date in self.Date_List:\n",
    "                multi_data = []\n",
    "                for i in self.code:\n",
    "                    data_ = w.wsd(i, self.indicator, date, date,\n",
    "                                  options=self.options, usedf=True)\n",
    "                    multi_data.append(data_[1])\n",
    "                self.data.append(pd.concat(multi_data, axis=0))\n",
    "        return self\n",
    "\n",
    "# w.wss(\"002450.OF\",\"NAV_adj_return\",\"startDate=20221117;endDate=20221118\")\n",
    "# w.wss(\"009878.OF\", \"sec_name\",\"startDate=20221117;endDate=20221118\")\n",
    "\n",
    "    @check_connection\n",
    "    def combine_wss(self, group_data: list):\n",
    "        for i in group_data:\n",
    "            data_ = []\n",
    "            for j in i:\n",
    "                data_.append(j[1])\n",
    "            data_ = pd.concat(data_, axis=1)\n",
    "            self.data.append(data_)\n",
    "        return self\n",
    "\n",
    "    def get_data_wss(self):\n",
    "        self.StartDate = self.StartDate.replace('-', '')\n",
    "        self.EndDate = self.EndDate.replace('-', '')\n",
    "        args = [self.options, self.StartDate, self.EndDate]\n",
    "        if self.options is None:\n",
    "            args = args[1:]\n",
    "        options = f'startDate={args[0]};endDate={args[1]};tradeDate={args[1]}' if len(\n",
    "            args) == 2 else f'{args[0]};startDate={args[1]};endDate={args[2]};tradeDate={args[2]}'\n",
    "        print(options)\n",
    "        data_ = w.wss(self.code, self.indicator, options=options, usedf=True)\n",
    "        self.data.append(data_[1])\n",
    "        return self\n",
    "\n",
    "    def add_data(self, we_obj, method: Literal['concat', 'append'] = 'concat', round_=None):\n",
    "        if method == 'concat':\n",
    "            we_obj.get_data(round_=round_)\n",
    "            self.data[-1] = pd.concat([self.data[-1], we_obj.data[-1]], axis=1)\n",
    "        elif method == 'append':\n",
    "            we_obj.get_data(round_=round_)\n",
    "            for i in we_obj.data:\n",
    "                self.data.append(i)\n",
    "        else:\n",
    "            raise ValueError('method must be concat or append')\n",
    "        return self\n",
    "\n",
    "    def excel_export(self, path=None, sheet_name: list = None, column_name: list = None):\n",
    "        \"\"\"\n",
    "        导出为Excel\n",
    "        =====\n",
    "        path: str (default: None)\n",
    "            导出路径, 例如'./data.xlsx', 默认为None, 会在output目录下生成{日期/开始日期_结束日期}.xlsx\n",
    "        sheet_name: list (default: None)\n",
    "            sheet名称, 例如['sheet1', 'sheet2'], 默认为None, 会使用工作簿数量作为sheet名称\n",
    "        column_name: list (default: None)\n",
    "            列名称, 二维数组, 例如[['col1', 'col2'], ['col1', 'col2']], 默认为None, 会使用Wind默认列名称\n",
    "        \"\"\"\n",
    "        if path is None:\n",
    "            if self.Date_List is None:\n",
    "                if self.StartDate == self.EndDate:\n",
    "                    path = f'./output/{self.EndDate}.xlsx'\n",
    "                else:\n",
    "                    path = f'./output/{self.StartDate}_{self.EndDate}.xlsx'\n",
    "            else:\n",
    "                path = f'./output/{self.Date_List[0]}.xlsx'\n",
    "        if sheet_name is None:\n",
    "            sheet_name = np.arange(len(self.data)) + 1\n",
    "        if column_name is not None:\n",
    "            try:\n",
    "                _ = column_name[0][0]\n",
    "            except:\n",
    "                raise ValueError('column_name 应当是二维列表')\n",
    "            for i, data in enumerate(self.data):\n",
    "                try:\n",
    "                    data.columns = column_name[i]\n",
    "                    print(column_name[i])\n",
    "                    print('更名完成')\n",
    "                except:\n",
    "                    raise ValueError('列名数与数据不匹配')\n",
    "        with pd.ExcelWriter(path, datetime_format='YYYY-MM-DD') as writer:\n",
    "            for i in enumerate(self.data):\n",
    "                i[1].to_excel(writer, sheet_name=sheet_name[i[0]])\n",
    "        return self"
   ]
  },
  {
   "cell_type": "code",
   "execution_count": 6,
   "metadata": {},
   "outputs": [
    {
     "name": "stdout",
     "output_type": "stream",
     "text": [
      "annualized=0;startDate=20221124;endDate=20221124;tradeDate=20221124\n",
      "annualized=0;startDate=20221025;endDate=20221124;tradeDate=20221124\n",
      "startDate=20211125;endDate=20221124;tradeDate=20221124\n"
     ]
    },
    {
     "data": {
      "text/plain": [
       "Wind_Exporter(['005754.OF', '005756.OF', '008911.OF', '008913.OF', '007935.OF', '007936.OF', '008696.OF', '004827.OF', '006851.OF'], sec_name,nav_date,nav,NAV_adj_return1,return_1m,return_3m,return_1y, wsd, None, 2022-11-24, 2022-11-24, annualized=1), With data length 5"
      ]
     },
     "execution_count": 6,
     "metadata": {},
     "output_type": "execute_result"
    }
   ],
   "source": [
    "code_for_zhai = ['005754.OF', '005756.OF', '008911.OF', '008913.OF', '007935.OF', '007936.OF', '008696.OF', '004827.OF', '006851.OF']\n",
    "code_for_ETF = ['516760.OF', '516820.OF', '515700.OF', '561600.OF']\n",
    "code_cundan_str = \"\"\"015645.OF,015644.OF,015826.OF,015862.OF,014437.OF,015823.OF,015648.OF,014427.OF,015822.OF,015647.OF,015875.OF,\n",
    "                        014426.OF,015864.OF,015861.OF,015646.OF,015643.OF,014430.OF,015956.OF,015825.OF,014428.OF,015827.OF,015863.OF,014429.OF,015944.OF,015955.OF,016082.OF,016063.OF,016083.OF\"\"\"\n",
    "code_for_meiri_str = \"\"\"002450.OF,004827.OF,015645.OF,008694.OF,005754.OF,700003.OF,000739.OF,007935.OF,009661.OF,009878.OF,\n",
    "                        010126.OF,014460.OF,013767.OF,013687.OF,004390.OF,012475.OF,007893.OF,885001.WI\"\"\"\n",
    "\n",
    "choice_data = \"2022-11-24\"\n",
    "a = Wind_Exporter(code=code_for_zhai, indicator=\"sec_name,nav_date,nav,NAV_adj_return1,return_1m,return_3m,return_1y\",options=\"annualized=1\",method=\"wsd\",EndDate=choice_data)\n",
    "b = Wind_Exporter(code=code_for_ETF, indicator=\"sec_name,nav_date,nav,NAV_adj_return1,return_1w,return_1m\",options=\"annualized=1\",method=\"wsd\",EndDate=choice_data)\n",
    "c = Wind_Exporter(code=\"015645.OF\", indicator=\"sec_name,nav_date,nav,NAV_adj_return1,return_1w,return_1m\",options=\"annualized=1\",method=\"wsd\",EndDate=choice_data)\n",
    "d = Wind_Exporter(code=code_cundan_str, indicator=\"sec_name,nav_date,return,risk_annualintervalyield,issue_date,fund_setupdate\",options=\"annualized=0\",method=\"wss\",EndDate=choice_data)\n",
    "e = Wind_Exporter(code=code_for_meiri_str, indicator=\"sec_name,nav_date,nav,NAV_adj_return1,NAV_adj_return,return_ytd\",options=\"annualized=0\",method=\"wss\",StartDate=\"before1m\",EndDate=choice_data)\n",
    "e_ = Wind_Exporter(code=code_for_meiri_str, indicator=\"NAV_adj_return\",method=\"wss\",StartDate=\"before1y\",EndDate=choice_data)\n",
    "a.get_data(round_=4).add_data(b, method='append',round_=4).add_data(c, method='append',round_=4).add_data(d, method='append',round_=4).add_data(e, method='append',round_=4).add_data(e_, method='concat',round_=4)\n"
   ]
  },
  {
   "cell_type": "code",
   "execution_count": null,
   "metadata": {},
   "outputs": [],
   "source": [
    "a.data[3]"
   ]
  },
  {
   "cell_type": "code",
   "execution_count": 52,
   "metadata": {},
   "outputs": [
    {
     "data": {
      "text/plain": [
       "Wind_Exporter(['005754.OF', '005756.OF', '008911.OF', '008913.OF', '007935.OF', '007936.OF', '008696.OF', '004827.OF', '006851.OF'], sec_name,nav_date,nav,NAV_adj_return1,return_1m,return_3m,return_1y, wsd, None, 2022-11-24, 2022-11-24, annualized=1), With data length 5"
      ]
     },
     "execution_count": 52,
     "metadata": {},
     "output_type": "execute_result"
    }
   ],
   "source": [
    "a.excel_export(sheet_name=['债', 'ETF', '同业', '存单', '每日'], column_name=[['证券简称', '基金净值日期','单位净值', '当期复权单位净值增长率', '近1月回报', '近3月回报', '近1年回报'],\n",
    "                ['证券简称', '基金净值日期','单位净值', '当期复权单位净值增长率', '近1周回报', '近1月回报'],['证券简称', '基金净值日期','单位净值', '当期复权单位净值增长率', '近1周回报', '近1月回报'],\n",
    "                ['证券简称', '基金净值日期','区间回报', '区间收益率', '发行日期', '基金成立日'], ['证券简称', '基金净值日期','单位净值', '当期复权单位净值增长率', '复权单位净值增长率(截止日1月前)', '今年以来回报', '复权单位净值增长率(截止日1年前)']],\n",
    "                path='./output/{}.xlsx'.format(choice_data))"
   ]
  },
  {
   "cell_type": "code",
   "execution_count": 32,
   "metadata": {},
   "outputs": [
    {
     "name": "stdout",
     "output_type": "stream",
     "text": [
      "annualized=0;startDate=20221025;endDate=20221124;tradeDate=20221124\n"
     ]
    },
    {
     "data": {
      "text/plain": [
       "Wind_Exporter(['002450.OF', '004827.OF', '015645.OF', '008694.OF', '005754.OF', '700003.OF', '000739.OF', '007935.OF', '009661.OF', '009878.OF', '010126.OF', '014460.OF', '013767.OF', '013687.OF', '004390.OF', '012475.OF', '007893.OF', '885001.WI'], sec_name,nav_date,nav,NAV_adj_return1,NAV_adj_return,return_ytd, wss, None, 20221025, 20221124, annualized=0), With data length 1"
      ]
     },
     "execution_count": 32,
     "metadata": {},
     "output_type": "execute_result"
    }
   ],
   "source": [
    "# code = [[w.wss(\"516760.OF,516820.OF,515700.OF,561600.OF\", \"swing\",\"tradeDate=20221122;cycle=D\", usedf=True)],\n",
    "# [w.wss(\"002450.OF\",\"NAV_adj_return\",\"startDate=20221117;endDate=20221118\", usedf=True),w.wss(\"009878.OF\", \"sec_name\",\"startDate=20221117;endDate=20221118\", usedf=True)]]\n",
    "code = ['002450.OF','009878.OF']\n",
    "code_for_meiri_str = \"\"\"002450.OF,004827.OF,015645.OF,008694.OF,005754.OF,700003.OF,000739.OF,007935.OF,009661.OF,009878.OF,010126.OF,014460.OF,013767.OF,013687.OF,004390.OF,012475.OF,007893.OF,885001.WI\"\"\"\n",
    "a = Wind_Exporter(method='wss', code=code_for_meiri_str, indicator=\"sec_name,nav_date,nav,NAV_adj_return1,NAV_adj_return,return_ytd\",StartDate='before1m',EndDate='2022-11-24',options=\"annualized=0\")\n",
    "b = Wind_Exporter(method='wss', code=code_for_meiri_str, indicator=\"NAV_adj_return\",StartDate='before1y',EndDate='2022-11-24')\n",
    "a.get_data(round_=4)"
   ]
  },
  {
   "cell_type": "code",
   "execution_count": 33,
   "metadata": {},
   "outputs": [
    {
     "name": "stdout",
     "output_type": "stream",
     "text": [
      "startDate=20211125;endDate=20221124;tradeDate=20221124\n"
     ]
    },
    {
     "data": {
      "text/plain": [
       "Wind_Exporter(['002450.OF', '004827.OF', '015645.OF', '008694.OF', '005754.OF', '700003.OF', '000739.OF', '007935.OF', '009661.OF', '009878.OF', '010126.OF', '014460.OF', '013767.OF', '013687.OF', '004390.OF', '012475.OF', '007893.OF', '885001.WI'], sec_name,nav_date,nav,NAV_adj_return1,NAV_adj_return,return_ytd, wss, None, 20221025, 20221124, annualized=0), With data length 1"
      ]
     },
     "execution_count": 33,
     "metadata": {},
     "output_type": "execute_result"
    }
   ],
   "source": [
    "a.add_data(b, method='concat',round_=4)\n"
   ]
  },
  {
   "cell_type": "code",
   "execution_count": 1,
   "metadata": {},
   "outputs": [
    {
     "name": "stdout",
     "output_type": "stream",
     "text": [
      "Welcome to use Wind Quant API for Python (WindPy)!\n",
      "\n",
      "COPYRIGHT (C) 2020 WIND INFORMATION CO., LTD. ALL RIGHTS RESERVED.\n",
      "IN NO CIRCUMSTANCE SHALL WIND BE RESPONSIBLE FOR ANY DAMAGES OR LOSSES CAUSED BY USING WIND QUANT API FOR Python.\n"
     ]
    },
    {
     "data": {
      "text/plain": [
       "Wind_Exporter(['005754.OF', '005756.OF', '008911.OF', '008913.OF', '007935.OF', '007936.OF', '008696.OF', '004827.OF', '006851.OF'], sec_name,nav_date,nav,NAV_adj_return1,return_1m,return_3m,return_1y, wsd, None, 2021-11-24, 2021-11-24, annualized=1), With data length 1"
      ]
     },
     "execution_count": 1,
     "metadata": {},
     "output_type": "execute_result"
    }
   ],
   "source": [
    "from wdpcore import Wind_Exporter\n",
    "code_for_zhai = ['005754.OF', '005756.OF', '008911.OF', '008913.OF', '007935.OF', '007936.OF', '008696.OF', '004827.OF', '006851.OF']\n",
    "choice_data = '2021-11-24'\n",
    "a = Wind_Exporter(code=code_for_zhai, indicator=\"sec_name,nav_date,nav,NAV_adj_return1,return_1m,return_3m,return_1y\",options=\"annualized=1\",method=\"wsd\",EndDate=choice_data)\n",
    "a.get_data(round_=4)"
   ]
  },
  {
   "cell_type": "code",
   "execution_count": 2,
   "metadata": {},
   "outputs": [
    {
     "data": {
      "text/plain": [
       "Wind_Exporter(['005754.OF', '005756.OF', '008911.OF', '008913.OF', '007935.OF', '007936.OF', '008696.OF', '004827.OF', '006851.OF'], sec_name,nav_date,nav,NAV_adj_return1,return_1m,return_3m,return_1y, wsd, None, 2021-11-24, 2021-11-24, annualized=1), With data length 1"
      ]
     },
     "execution_count": 2,
     "metadata": {},
     "output_type": "execute_result"
    }
   ],
   "source": [
    "a.excel_export()"
   ]
  },
  {
   "cell_type": "code",
   "execution_count": 12,
   "metadata": {},
   "outputs": [],
   "source": [
    "Data = Data+Data"
   ]
  },
  {
   "cell_type": "code",
   "execution_count": 13,
   "metadata": {},
   "outputs": [
    {
     "data": {
      "text/plain": [
       "[           SEC_NAME   NAV_DATE     NAV  NAV_ADJ_RETURN1  RETURN_1M  RETURN_3M  \\\n",
       " 005754.OF     平安短债A 2021-11-24  1.1155           0.0090     4.7634     3.2291   \n",
       " 005756.OF     平安短债E 2021-11-24  1.1062           0.0090     4.5807     2.9959   \n",
       " 008911.OF  平安元丰中短债A 2021-11-24  1.0534           0.0190     5.8807     3.2273   \n",
       " 008913.OF  平安元丰中短债E 2021-11-24  1.0491           0.0191     5.6670     2.9658   \n",
       " 007935.OF   平安惠澜纯债A 2021-11-24  1.0941           0.0732    20.6426     9.6043   \n",
       " 007936.OF   平安惠澜纯债C 2021-11-24  1.0835           0.0831    20.0681     9.0892   \n",
       " 008696.OF  平安元盛超短债E 2021-11-24  1.0487           0.0095     3.8976     2.4584   \n",
       " 004827.OF    平安中短债A 2021-11-24  1.1177           0.0627    13.4317     8.0107   \n",
       " 006851.OF    平安中短债E 2021-11-24  1.1106           0.0541    13.0381     7.7109   \n",
       " \n",
       "            RETURN_1Y  \n",
       " 005754.OF     4.1842  \n",
       " 005756.OF     3.9271  \n",
       " 008911.OF     4.9412  \n",
       " 008913.OF     4.6693  \n",
       " 007935.OF     7.1596  \n",
       " 007936.OF     6.6332  \n",
       " 008696.OF     3.2693  \n",
       " 004827.OF     6.6468  \n",
       " 006851.OF     6.3653  ,\n",
       "            SEC_NAME   NAV_DATE     NAV  NAV_ADJ_RETURN1  RETURN_1M  RETURN_3M  \\\n",
       " 005754.OF     平安短债A 2021-11-24  1.1155           0.0090     4.7634     3.2291   \n",
       " 005756.OF     平安短债E 2021-11-24  1.1062           0.0090     4.5807     2.9959   \n",
       " 008911.OF  平安元丰中短债A 2021-11-24  1.0534           0.0190     5.8807     3.2273   \n",
       " 008913.OF  平安元丰中短债E 2021-11-24  1.0491           0.0191     5.6670     2.9658   \n",
       " 007935.OF   平安惠澜纯债A 2021-11-24  1.0941           0.0732    20.6426     9.6043   \n",
       " 007936.OF   平安惠澜纯债C 2021-11-24  1.0835           0.0831    20.0681     9.0892   \n",
       " 008696.OF  平安元盛超短债E 2021-11-24  1.0487           0.0095     3.8976     2.4584   \n",
       " 004827.OF    平安中短债A 2021-11-24  1.1177           0.0627    13.4317     8.0107   \n",
       " 006851.OF    平安中短债E 2021-11-24  1.1106           0.0541    13.0381     7.7109   \n",
       " \n",
       "            RETURN_1Y  \n",
       " 005754.OF     4.1842  \n",
       " 005756.OF     3.9271  \n",
       " 008911.OF     4.9412  \n",
       " 008913.OF     4.6693  \n",
       " 007935.OF     7.1596  \n",
       " 007936.OF     6.6332  \n",
       " 008696.OF     3.2693  \n",
       " 004827.OF     6.6468  \n",
       " 006851.OF     6.3653  ]"
      ]
     },
     "execution_count": 13,
     "metadata": {},
     "output_type": "execute_result"
    }
   ],
   "source": [
    "Data"
   ]
  },
  {
   "cell_type": "code",
   "execution_count": 14,
   "metadata": {},
   "outputs": [],
   "source": [
    "sheet_name = ['1','2']\n",
    "with pd.ExcelWriter('./output/1.xlsx', date_format='YYYY-MM-DD',datetime_format='YYYY-MM-DD', engine='openpyxl') as writer:\n",
    "    for i in enumerate(Data):\n",
    "        i[1].to_excel(writer, sheet_name=sheet_name[i[0]])\n",
    "        sheet = writer.sheets[sheet_name[i[0]]]\n",
    "        for j in range(len(i[1].columns)+1):\n",
    "            sheet.column_dimensions[chr(64+j+1)].width = 20\n"
   ]
  },
  {
   "cell_type": "code",
   "execution_count": 2,
   "metadata": {},
   "outputs": [
    {
     "name": "stdout",
     "output_type": "stream",
     "text": [
      "A\n",
      "B\n",
      "C\n",
      "D\n",
      "E\n",
      "F\n",
      "G\n"
     ]
    },
    {
     "ename": "AttributeError",
     "evalue": "'int' object has no attribute 'reindex'",
     "output_type": "error",
     "traceback": [
      "\u001b[1;31m---------------------------------------------------------------------------\u001b[0m",
      "\u001b[1;31mAttributeError\u001b[0m                            Traceback (most recent call last)",
      "\u001b[1;32mc:\\Users\\Light_ouo\\Documents\\Code\\Wind_Exporter_lite\\test.ipynb Cell 10\u001b[0m in \u001b[0;36m<cell line: 1>\u001b[1;34m()\u001b[0m\n\u001b[1;32m----> <a href='vscode-notebook-cell:/c%3A/Users/Light_ouo/Documents/Code/Wind_Exporter_lite/test.ipynb#X12sZmlsZQ%3D%3D?line=0'>1</a>\u001b[0m a\u001b[39m.\u001b[39;49mexcel_export()\n",
      "File \u001b[1;32mc:\\Users\\Light_ouo\\Documents\\Code\\Wind_Exporter_lite\\wdpcore.py:196\u001b[0m, in \u001b[0;36mWind_Exporter.excel_export\u001b[1;34m(self, path, sheet_name, column_name)\u001b[0m\n\u001b[0;32m    194\u001b[0m         \u001b[39mfor\u001b[39;00m j \u001b[39min\u001b[39;00m \u001b[39mrange\u001b[39m(\u001b[39mlen\u001b[39m(i[\u001b[39m1\u001b[39m]\u001b[39m.\u001b[39mcolumns)):\n\u001b[0;32m    195\u001b[0m             \u001b[39mprint\u001b[39m(\u001b[39mchr\u001b[39m(\u001b[39m64\u001b[39m\u001b[39m+\u001b[39mj\u001b[39m+\u001b[39m\u001b[39m1\u001b[39m))\n\u001b[1;32m--> 196\u001b[0m             sheet\u001b[39m.\u001b[39mcolumn_dimensions[\u001b[39mchr\u001b[39m(\u001b[39m64\u001b[39m\u001b[39m+\u001b[39mj\u001b[39m+\u001b[39m\u001b[39m1\u001b[39m)] \u001b[39m=\u001b[39m \u001b[39m20\u001b[39m\n\u001b[0;32m    197\u001b[0m \u001b[39mreturn\u001b[39;00m \u001b[39mself\u001b[39m\n",
      "File \u001b[1;32mc:\\ProgramData\\Anaconda3\\lib\\site-packages\\pandas\\io\\excel\\_base.py:1201\u001b[0m, in \u001b[0;36mExcelWriter.__exit__\u001b[1;34m(self, exc_type, exc_value, traceback)\u001b[0m\n\u001b[0;32m   1200\u001b[0m \u001b[39mdef\u001b[39;00m \u001b[39m__exit__\u001b[39m(\u001b[39mself\u001b[39m, exc_type, exc_value, traceback):\n\u001b[1;32m-> 1201\u001b[0m     \u001b[39mself\u001b[39;49m\u001b[39m.\u001b[39;49mclose()\n",
      "File \u001b[1;32mc:\\ProgramData\\Anaconda3\\lib\\site-packages\\pandas\\io\\excel\\_base.py:1205\u001b[0m, in \u001b[0;36mExcelWriter.close\u001b[1;34m(self)\u001b[0m\n\u001b[0;32m   1203\u001b[0m \u001b[39mdef\u001b[39;00m \u001b[39mclose\u001b[39m(\u001b[39mself\u001b[39m) \u001b[39m-\u001b[39m\u001b[39m>\u001b[39m \u001b[39mNone\u001b[39;00m:\n\u001b[0;32m   1204\u001b[0m     \u001b[39m\"\"\"synonym for save, to make it more file-like\"\"\"\u001b[39;00m\n\u001b[1;32m-> 1205\u001b[0m     \u001b[39mself\u001b[39;49m\u001b[39m.\u001b[39;49msave()\n\u001b[0;32m   1206\u001b[0m     \u001b[39mself\u001b[39m\u001b[39m.\u001b[39mhandles\u001b[39m.\u001b[39mclose()\n",
      "File \u001b[1;32mc:\\ProgramData\\Anaconda3\\lib\\site-packages\\pandas\\io\\excel\\_openpyxl.py:81\u001b[0m, in \u001b[0;36mOpenpyxlWriter.save\u001b[1;34m(self)\u001b[0m\n\u001b[0;32m     77\u001b[0m \u001b[39mdef\u001b[39;00m \u001b[39msave\u001b[39m(\u001b[39mself\u001b[39m):\n\u001b[0;32m     78\u001b[0m     \u001b[39m\"\"\"\u001b[39;00m\n\u001b[0;32m     79\u001b[0m \u001b[39m    Save workbook to disk.\u001b[39;00m\n\u001b[0;32m     80\u001b[0m \u001b[39m    \"\"\"\u001b[39;00m\n\u001b[1;32m---> 81\u001b[0m     \u001b[39mself\u001b[39;49m\u001b[39m.\u001b[39;49mbook\u001b[39m.\u001b[39;49msave(\u001b[39mself\u001b[39;49m\u001b[39m.\u001b[39;49mhandles\u001b[39m.\u001b[39;49mhandle)\n\u001b[0;32m     82\u001b[0m     \u001b[39mif\u001b[39;00m \u001b[39m\"\u001b[39m\u001b[39mr+\u001b[39m\u001b[39m\"\u001b[39m \u001b[39min\u001b[39;00m \u001b[39mself\u001b[39m\u001b[39m.\u001b[39mmode \u001b[39mand\u001b[39;00m \u001b[39mnot\u001b[39;00m \u001b[39misinstance\u001b[39m(\u001b[39mself\u001b[39m\u001b[39m.\u001b[39mhandles\u001b[39m.\u001b[39mhandle, mmap\u001b[39m.\u001b[39mmmap):\n\u001b[0;32m     83\u001b[0m         \u001b[39m# truncate file to the written content\u001b[39;00m\n\u001b[0;32m     84\u001b[0m         \u001b[39mself\u001b[39m\u001b[39m.\u001b[39mhandles\u001b[39m.\u001b[39mhandle\u001b[39m.\u001b[39mtruncate()\n",
      "File \u001b[1;32mc:\\ProgramData\\Anaconda3\\lib\\site-packages\\openpyxl\\workbook\\workbook.py:407\u001b[0m, in \u001b[0;36mWorkbook.save\u001b[1;34m(self, filename)\u001b[0m\n\u001b[0;32m    405\u001b[0m \u001b[39mif\u001b[39;00m \u001b[39mself\u001b[39m\u001b[39m.\u001b[39mwrite_only \u001b[39mand\u001b[39;00m \u001b[39mnot\u001b[39;00m \u001b[39mself\u001b[39m\u001b[39m.\u001b[39mworksheets:\n\u001b[0;32m    406\u001b[0m     \u001b[39mself\u001b[39m\u001b[39m.\u001b[39mcreate_sheet()\n\u001b[1;32m--> 407\u001b[0m save_workbook(\u001b[39mself\u001b[39;49m, filename)\n",
      "File \u001b[1;32mc:\\ProgramData\\Anaconda3\\lib\\site-packages\\openpyxl\\writer\\excel.py:293\u001b[0m, in \u001b[0;36msave_workbook\u001b[1;34m(workbook, filename)\u001b[0m\n\u001b[0;32m    291\u001b[0m archive \u001b[39m=\u001b[39m ZipFile(filename, \u001b[39m'\u001b[39m\u001b[39mw\u001b[39m\u001b[39m'\u001b[39m, ZIP_DEFLATED, allowZip64\u001b[39m=\u001b[39m\u001b[39mTrue\u001b[39;00m)\n\u001b[0;32m    292\u001b[0m writer \u001b[39m=\u001b[39m ExcelWriter(workbook, archive)\n\u001b[1;32m--> 293\u001b[0m writer\u001b[39m.\u001b[39;49msave()\n\u001b[0;32m    294\u001b[0m \u001b[39mreturn\u001b[39;00m \u001b[39mTrue\u001b[39;00m\n",
      "File \u001b[1;32mc:\\ProgramData\\Anaconda3\\lib\\site-packages\\openpyxl\\writer\\excel.py:275\u001b[0m, in \u001b[0;36mExcelWriter.save\u001b[1;34m(self)\u001b[0m\n\u001b[0;32m    273\u001b[0m \u001b[39mdef\u001b[39;00m \u001b[39msave\u001b[39m(\u001b[39mself\u001b[39m):\n\u001b[0;32m    274\u001b[0m     \u001b[39m\"\"\"Write data into the archive.\"\"\"\u001b[39;00m\n\u001b[1;32m--> 275\u001b[0m     \u001b[39mself\u001b[39;49m\u001b[39m.\u001b[39;49mwrite_data()\n\u001b[0;32m    276\u001b[0m     \u001b[39mself\u001b[39m\u001b[39m.\u001b[39m_archive\u001b[39m.\u001b[39mclose()\n",
      "File \u001b[1;32mc:\\ProgramData\\Anaconda3\\lib\\site-packages\\openpyxl\\writer\\excel.py:75\u001b[0m, in \u001b[0;36mExcelWriter.write_data\u001b[1;34m(self)\u001b[0m\n\u001b[0;32m     72\u001b[0m \u001b[39melse\u001b[39;00m:\n\u001b[0;32m     73\u001b[0m     archive\u001b[39m.\u001b[39mwritestr(ARC_THEME, theme_xml)\n\u001b[1;32m---> 75\u001b[0m \u001b[39mself\u001b[39;49m\u001b[39m.\u001b[39;49m_write_worksheets()\n\u001b[0;32m     76\u001b[0m \u001b[39mself\u001b[39m\u001b[39m.\u001b[39m_write_chartsheets()\n\u001b[0;32m     77\u001b[0m \u001b[39mself\u001b[39m\u001b[39m.\u001b[39m_write_images()\n",
      "File \u001b[1;32mc:\\ProgramData\\Anaconda3\\lib\\site-packages\\openpyxl\\writer\\excel.py:215\u001b[0m, in \u001b[0;36mExcelWriter._write_worksheets\u001b[1;34m(self)\u001b[0m\n\u001b[0;32m    212\u001b[0m \u001b[39mfor\u001b[39;00m idx, ws \u001b[39min\u001b[39;00m \u001b[39menumerate\u001b[39m(\u001b[39mself\u001b[39m\u001b[39m.\u001b[39mworkbook\u001b[39m.\u001b[39mworksheets, \u001b[39m1\u001b[39m):\n\u001b[0;32m    214\u001b[0m     ws\u001b[39m.\u001b[39m_id \u001b[39m=\u001b[39m idx\n\u001b[1;32m--> 215\u001b[0m     \u001b[39mself\u001b[39;49m\u001b[39m.\u001b[39;49mwrite_worksheet(ws)\n\u001b[0;32m    217\u001b[0m     \u001b[39mif\u001b[39;00m ws\u001b[39m.\u001b[39m_drawing:\n\u001b[0;32m    218\u001b[0m         \u001b[39mself\u001b[39m\u001b[39m.\u001b[39m_write_drawing(ws\u001b[39m.\u001b[39m_drawing)\n",
      "File \u001b[1;32mc:\\ProgramData\\Anaconda3\\lib\\site-packages\\openpyxl\\writer\\excel.py:200\u001b[0m, in \u001b[0;36mExcelWriter.write_worksheet\u001b[1;34m(self, ws)\u001b[0m\n\u001b[0;32m    198\u001b[0m \u001b[39melse\u001b[39;00m:\n\u001b[0;32m    199\u001b[0m     writer \u001b[39m=\u001b[39m WorksheetWriter(ws)\n\u001b[1;32m--> 200\u001b[0m     writer\u001b[39m.\u001b[39;49mwrite()\n\u001b[0;32m    202\u001b[0m ws\u001b[39m.\u001b[39m_rels \u001b[39m=\u001b[39m writer\u001b[39m.\u001b[39m_rels\n\u001b[0;32m    203\u001b[0m \u001b[39mself\u001b[39m\u001b[39m.\u001b[39m_archive\u001b[39m.\u001b[39mwrite(writer\u001b[39m.\u001b[39mout, ws\u001b[39m.\u001b[39mpath[\u001b[39m1\u001b[39m:])\n",
      "File \u001b[1;32mc:\\ProgramData\\Anaconda3\\lib\\site-packages\\openpyxl\\worksheet\\_writer.py:358\u001b[0m, in \u001b[0;36mWorksheetWriter.write\u001b[1;34m(self)\u001b[0m\n\u001b[0;32m    354\u001b[0m \u001b[39mdef\u001b[39;00m \u001b[39mwrite\u001b[39m(\u001b[39mself\u001b[39m):\n\u001b[0;32m    355\u001b[0m     \u001b[39m\"\"\"\u001b[39;00m\n\u001b[0;32m    356\u001b[0m \u001b[39m    High level\u001b[39;00m\n\u001b[0;32m    357\u001b[0m \u001b[39m    \"\"\"\u001b[39;00m\n\u001b[1;32m--> 358\u001b[0m     \u001b[39mself\u001b[39;49m\u001b[39m.\u001b[39;49mwrite_top()\n\u001b[0;32m    359\u001b[0m     \u001b[39mself\u001b[39m\u001b[39m.\u001b[39mwrite_rows()\n\u001b[0;32m    360\u001b[0m     \u001b[39mself\u001b[39m\u001b[39m.\u001b[39mwrite_tail()\n",
      "File \u001b[1;32mc:\\ProgramData\\Anaconda3\\lib\\site-packages\\openpyxl\\worksheet\\_writer.py:103\u001b[0m, in \u001b[0;36mWorksheetWriter.write_top\u001b[1;34m(self)\u001b[0m\n\u001b[0;32m    101\u001b[0m \u001b[39mself\u001b[39m\u001b[39m.\u001b[39mwrite_views()\n\u001b[0;32m    102\u001b[0m \u001b[39mself\u001b[39m\u001b[39m.\u001b[39mwrite_format()\n\u001b[1;32m--> 103\u001b[0m \u001b[39mself\u001b[39;49m\u001b[39m.\u001b[39;49mwrite_cols()\n",
      "File \u001b[1;32mc:\\ProgramData\\Anaconda3\\lib\\site-packages\\openpyxl\\worksheet\\_writer.py:87\u001b[0m, in \u001b[0;36mWorksheetWriter.write_cols\u001b[1;34m(self)\u001b[0m\n\u001b[0;32m     85\u001b[0m \u001b[39mdef\u001b[39;00m \u001b[39mwrite_cols\u001b[39m(\u001b[39mself\u001b[39m):\n\u001b[0;32m     86\u001b[0m     cols \u001b[39m=\u001b[39m \u001b[39mself\u001b[39m\u001b[39m.\u001b[39mws\u001b[39m.\u001b[39mcolumn_dimensions\n\u001b[1;32m---> 87\u001b[0m     \u001b[39mself\u001b[39m\u001b[39m.\u001b[39mxf\u001b[39m.\u001b[39msend(cols\u001b[39m.\u001b[39;49mto_tree())\n",
      "File \u001b[1;32mc:\\ProgramData\\Anaconda3\\lib\\site-packages\\openpyxl\\worksheet\\dimensions.py:233\u001b[0m, in \u001b[0;36mDimensionHolder.to_tree\u001b[1;34m(self)\u001b[0m\n\u001b[0;32m    230\u001b[0m el \u001b[39m=\u001b[39m Element(\u001b[39m'\u001b[39m\u001b[39mcols\u001b[39m\u001b[39m'\u001b[39m)\n\u001b[0;32m    231\u001b[0m outlines \u001b[39m=\u001b[39m \u001b[39mset\u001b[39m()\n\u001b[1;32m--> 233\u001b[0m \u001b[39mfor\u001b[39;00m col \u001b[39min\u001b[39;00m \u001b[39msorted\u001b[39;49m(\u001b[39mself\u001b[39;49m\u001b[39m.\u001b[39;49mvalues(), key\u001b[39m=\u001b[39;49msorter):\n\u001b[0;32m    234\u001b[0m     obj \u001b[39m=\u001b[39m col\u001b[39m.\u001b[39mto_tree()\n\u001b[0;32m    235\u001b[0m     \u001b[39mif\u001b[39;00m obj \u001b[39mis\u001b[39;00m \u001b[39mnot\u001b[39;00m \u001b[39mNone\u001b[39;00m:\n",
      "File \u001b[1;32mc:\\ProgramData\\Anaconda3\\lib\\site-packages\\openpyxl\\worksheet\\dimensions.py:227\u001b[0m, in \u001b[0;36mDimensionHolder.to_tree.<locals>.sorter\u001b[1;34m(value)\u001b[0m\n\u001b[0;32m    226\u001b[0m \u001b[39mdef\u001b[39;00m \u001b[39msorter\u001b[39m(value):\n\u001b[1;32m--> 227\u001b[0m     value\u001b[39m.\u001b[39;49mreindex()\n\u001b[0;32m    228\u001b[0m     \u001b[39mreturn\u001b[39;00m value\u001b[39m.\u001b[39mmin\n",
      "\u001b[1;31mAttributeError\u001b[0m: 'int' object has no attribute 'reindex'"
     ]
    }
   ],
   "source": [
    "a.excel_export()"
   ]
  },
  {
   "cell_type": "code",
   "execution_count": null,
   "metadata": {},
   "outputs": [],
   "source": []
  },
  {
   "cell_type": "code",
   "execution_count": 17,
   "metadata": {},
   "outputs": [
    {
     "data": {
      "text/plain": [
       "Wind_Exporter(['005754.OF', '005756.OF', '008911.OF', '008913.OF', '007935.OF', '007936.OF', '008696.OF', '004827.OF', '006851.OF'], sec_name,nav,NAV_adj_return1,return_1m,return_3m,return_1y, wsd, None, 20211124, 2022-11-23, annualized=1)"
      ]
     },
     "execution_count": 17,
     "metadata": {},
     "output_type": "execute_result"
    }
   ],
   "source": [
    "indicator = \"sec_name,nav,NAV_adj_return1,return_1m,return_3m,return_1y\"\n",
    "date = ['2022-11-18', '2022-11-17']\n",
    "code = ['005754.OF', '005756.OF', '008911.OF', '008913.OF', '007935.OF', '007936.OF', '008696.OF', '004827.OF', '006851.OF']\n",
    "Wind_Exporter(code, method='wsd', indicator=indicator, StartDate='before1y', options=\"annualized=1\")"
   ]
  },
  {
   "cell_type": "code",
   "execution_count": 112,
   "metadata": {},
   "outputs": [
    {
     "data": {
      "text/plain": [
       ".ErrorCode=-40521008\n",
       ".Codes=[ErrorReport]\n",
       ".Fields=[OUTMESSAGE]\n",
       ".Times=[20221123 23:01:28]\n",
       ".Data=[[CWSSServiceresponse error.]]"
      ]
     },
     "execution_count": 112,
     "metadata": {},
     "output_type": "execute_result"
    }
   ],
   "source": [
    "code_for_meiri_str = \"\"\"002450.OF,004827.OF,015645.OF,008694.OF,005754.OF,700003.OF,000739.OF,007935.OF,009661.OF,009878.OF,010126.OF,014460.OF,013767.OF,013687.OF,004390.OF,012475.OF,007893.OF,885001.WI\"\"\"\n",
    "w.wss(code_for_meiri_str, \"sec_name,nav,NAV_adj_return1,NAV_adj_return,return_ytd\",\"tradeDate='20221118';startDate='20221018';endDate='20221118';annualized=0\")\n",
    "# w.wss(\"002450.OF\",\"NAV_adj_return\",\"startDate=20221117;endDate=20221118\")\n",
    "# w.wss(\"009878.OF\", \"sec_name\",\"startDate=20221117;endDate=20221118\")\n",
    "# w.wsd(\"015645.OF\", \"sec_name,nav,NAV_adj_return1,return_1w,return_1m\", date, date, \"annualized=1\")"
   ]
  },
  {
   "cell_type": "code",
   "execution_count": 55,
   "metadata": {},
   "outputs": [],
   "source": [
    "indicator = \"sec_name,nav,NAV_adj_return1,return_1m,return_3m,return_1y\"\n",
    "date = ['2022-11-18', '2022-11-17']\n",
    "code = ['005754.OF', '005756.OF', '008911.OF', '008913.OF', '007935.OF', '007936.OF', '008696.OF', '004827.OF', '006851.OF']\n",
    "a = Wind_Exporter(code, method='wsd', indicator=indicator, StartDate='before1y', options=\"annualized=1\").get_data()\n",
    "\n"
   ]
  },
  {
   "cell_type": "code",
   "execution_count": 56,
   "metadata": {},
   "outputs": [
    {
     "data": {
      "text/plain": [
       "[[           SEC_NAME     NAV  NAV_ADJ_RETURN1  RETURN_1M  RETURN_3M  RETURN_1Y\n",
       "  2021-11-26    平安短债A  1.1159         0.026891   4.539945   3.338994   4.202073\n",
       "  2021-11-29    平安短债A  1.1161         0.017923   4.097331   3.449575   4.201288\n",
       "  2021-11-30    平安短债A  1.1161         0.000000   4.236762   3.300796   4.142950\n",
       "  2021-12-01    平安短债A  1.1162         0.008960   3.894961   3.300495   4.123134\n",
       "  2021-12-02    平安短债A  1.1163         0.008959   3.894605   3.300193   4.113039\n",
       "  ...             ...     ...              ...        ...        ...        ...\n",
       "  2022-11-21    平安短债A  1.1441         0.026228  -4.124394  -0.207791   2.619069\n",
       "  2022-11-22    平安短债A  1.1440        -0.008740  -4.223016  -0.311511   2.582496\n",
       "  2022-11-23    平安短债A  1.1443         0.026224  -3.926873  -0.207755   2.590999\n",
       "  2022-11-24    平安短债A  1.1452         0.078651  -3.232057   0.138695   2.662483\n",
       "  2022-11-25    平安短债A  1.1452              NaN  -3.132789   0.173406   2.653281\n",
       "  \n",
       "  [243 rows x 6 columns],\n",
       "             SEC_NAME     NAV  NAV_ADJ_RETURN1  RETURN_1M  RETURN_3M  RETURN_1Y\n",
       "  2021-11-26    平安短债E  1.1065         0.018078   4.244921   3.069504   3.935751\n",
       "  2021-11-29    平安短债E  1.1068         0.027113   3.910462   3.217704   3.954165\n",
       "  2021-11-30    平安短债E  1.1067        -0.009035   3.929098   3.065537   3.886229\n",
       "  2021-12-01    平安短债E  1.1068         0.009036   3.585527   3.027631   3.866366\n",
       "  2021-12-02    平安短债E  1.1069         0.009035   3.585197   3.064973   3.856258\n",
       "  ...             ...     ...              ...        ...        ...        ...\n",
       "  2022-11-21    平安短债E  1.1317         0.026516  -4.466077  -0.454443   2.360709\n",
       "  2022-11-22    平安短债E  1.1317         0.000000  -4.466077  -0.524127   2.332941\n",
       "  2022-11-23    平安短债E  1.1319         0.017673  -4.267101  -0.454363   2.332520\n",
       "  2022-11-24    平安短债E  1.1328         0.079512  -3.467098  -0.105000   2.404628\n",
       "  2022-11-25    平安短债E  1.1328              NaN  -3.367007  -0.070015   2.395372\n",
       "  \n",
       "  [243 rows x 6 columns],\n",
       "              SEC_NAME     NAV  NAV_ADJ_RETURN1  RETURN_1M  RETURN_3M  RETURN_1Y\n",
       "  2021-11-26  平安元丰中短债A  1.0537         0.018984   5.641490   3.344018   4.960653\n",
       "  2021-11-29  平安元丰中短债A  1.0540         0.028471   5.284801   3.421531   4.959171\n",
       "  2021-11-30  平安元丰中短债A  1.0539        -0.009488   5.344013   3.341062   4.844807\n",
       "  2021-12-01  平安元丰中短债A  1.0540         0.009489   4.734789   3.340738   4.781787\n",
       "  2021-12-02  平安元丰中短债A  1.0540         0.000000   4.371394   3.340738   4.760958\n",
       "  ...              ...     ...              ...        ...        ...        ...\n",
       "  2022-11-21  平安元丰中短债A  1.0709         0.065408 -11.046742  -2.980970   1.719225\n",
       "  2022-11-22  平安元丰中短债A  1.0708        -0.009338 -11.144494  -3.052556   1.680752\n",
       "  2022-11-23  平安元丰中短债A  1.0717         0.084049 -10.261176  -2.621524   1.756551\n",
       "  2022-11-24  平安元丰中短债A  1.0728         0.102641  -9.071722  -2.152437   1.841656\n",
       "  2022-11-25  平安元丰中短债A  1.0728              NaN  -8.674814  -1.972291   1.831989\n",
       "  \n",
       "  [243 rows x 6 columns],\n",
       "              SEC_NAME     NAV  NAV_ADJ_RETURN1  RETURN_1M  RETURN_3M  RETURN_1Y\n",
       "  2021-11-26  平安元丰中短债E  1.0494         0.019062   5.427372   3.082649   4.688747\n",
       "  2021-11-29  平安元丰中短债E  1.0496         0.019059   4.952280   3.121323   4.677371\n",
       "  2021-11-30  平安元丰中短债E  1.0495        -0.009527   4.999724   3.037359   4.563116\n",
       "  2021-12-01  平安元丰中短债E  1.0496         0.009528   4.390149   3.037064   4.500199\n",
       "  2021-12-02  平安元丰中短债E  1.0496         0.000000   4.147586   3.037064   4.489796\n",
       "  ...              ...     ...              ...        ...        ...        ...\n",
       "  2022-11-21  平安元丰中短债E  1.0640         0.065833 -11.211231  -3.214990   1.478302\n",
       "  2022-11-22  平安元丰中短债E  1.0639        -0.009398 -11.309434  -3.286845   1.439741\n",
       "  2022-11-23  平安元丰中短债E  1.0647         0.075195 -10.521014  -2.890317   1.506340\n",
       "  2022-11-24  平安元丰中短债E  1.0658         0.103315  -9.327182  -2.383385   1.591841\n",
       "  2022-11-25  平安元丰中短债E  1.0658              NaN  -8.928879  -2.238782   1.582158\n",
       "  \n",
       "  [243 rows x 6 columns],\n",
       "             SEC_NAME     NAV  NAV_ADJ_RETURN1  RETURN_1M  RETURN_3M  RETURN_1Y\n",
       "  2021-11-26  平安惠澜纯债A  1.0950         0.063968  19.444064   9.880813   7.226792\n",
       "  2021-11-29  平安惠澜纯债A  1.0953         0.027397  16.100837  10.081962   7.256169\n",
       "  2021-11-30  平安惠澜纯债A  1.0957         0.036520  17.199523   9.781966   7.221842\n",
       "  2021-12-01  平安惠澜纯债A  1.0956        -0.009127  15.890611   9.536432   7.212056\n",
       "  2021-12-02  平安惠澜纯债A  1.0957         0.009127  15.110371   9.371592   7.179888\n",
       "  ...             ...     ...              ...        ...        ...        ...\n",
       "  2022-11-21  平安惠澜纯债A  1.1267         0.008876  -9.319150  -2.734010   3.158762\n",
       "  2022-11-22  平安惠澜纯债A  1.1265        -0.017751  -9.508495  -2.836472   3.074389\n",
       "  2022-11-23  平安惠澜纯债A  1.1272         0.062139  -8.844201  -2.528570   3.100704\n",
       "  2022-11-24  平安惠澜纯债A  1.1289         0.150816  -7.308404  -1.841107   3.180696\n",
       "  2022-11-25  平安惠澜纯债A  1.1289              NaN  -7.019755  -1.600389   3.161839\n",
       "  \n",
       "  [243 rows x 6 columns],\n",
       "             SEC_NAME     NAV  NAV_ADJ_RETURN1  RETURN_1M  RETURN_3M  RETURN_1Y\n",
       "  2021-11-26  平安惠澜纯债C  1.0843         0.064599  18.866555   9.327223   6.690938\n",
       "  2021-11-29  平安惠澜纯债C  1.0846         0.027668  15.635707   9.529230   6.720457\n",
       "  2021-11-30  平安惠澜纯债C  1.0849         0.027660  16.588671   9.222256   6.686990\n",
       "  2021-12-01  平安惠澜纯债C  1.0848        -0.009217  15.274203   9.016983   6.677156\n",
       "  2021-12-02  平安惠澜纯债C  1.0849         0.009218  14.620726   8.851537   6.645041\n",
       "  ...             ...     ...              ...        ...        ...        ...\n",
       "  2022-11-21  平安惠澜纯债C  1.1102         0.009008  -9.830375  -3.221128   2.644231\n",
       "  2022-11-22  平安惠澜纯债C  1.1100        -0.018015 -10.021448  -3.324548   2.568841\n",
       "  2022-11-23  平安惠澜纯债C  1.1107         0.063063  -9.351068  -2.979335   2.595603\n",
       "  2022-11-24  平安惠澜纯债C  1.1123         0.144053  -7.801573  -2.319823   2.658053\n",
       "  2022-11-25  平安惠澜纯债C  1.1123              NaN  -7.412987  -2.076998   2.648579\n",
       "  \n",
       "  [243 rows x 6 columns],\n",
       "              SEC_NAME     NAV  NAV_ADJ_RETURN1  RETURN_1M  RETURN_3M  RETURN_1Y\n",
       "  2021-11-26  平安元盛超短债E  1.0488         0.000000   3.546770   2.497134   3.269004\n",
       "  2021-11-29  平安元盛超短债E  1.0491         0.028604   3.429253   2.574452   3.288373\n",
       "  2021-11-30  平安元盛超短债E  1.0491         0.000000   3.545564   2.524185   3.237552\n",
       "  2021-12-01  平安元盛超短债E  1.0493         0.019064   3.184342   2.602603   3.236915\n",
       "  2021-12-02  平安元盛超短债E  1.0493         0.000000   3.064466   2.563140   3.216604\n",
       "  ...              ...     ...              ...        ...        ...        ...\n",
       "  2022-11-21  平安元盛超短债E  1.0617        -0.009418  -4.331053  -1.590802   1.278260\n",
       "  2022-11-22  平安元盛超短债E  1.0619         0.018838  -4.118645  -1.627116   1.268358\n",
       "  2022-11-23  平安元盛超短债E  1.0621         0.018834  -3.905805  -1.516951   1.287431\n",
       "  2022-11-24  平安元盛超短债E  1.0632         0.103568  -2.296528  -1.038037   1.382664\n",
       "  2022-11-25  平安元盛超短债E  1.0632              NaN  -1.971985  -0.964341   1.372998\n",
       "  \n",
       "  [243 rows x 6 columns],\n",
       "             SEC_NAME     NAV  NAV_ADJ_RETURN1  RETURN_1M  RETURN_3M  RETURN_1Y\n",
       "  2021-11-26   平安中短债A  1.1185         0.053672  12.819718   7.926593   6.713111\n",
       "  2021-11-29   平安中短债A  1.1194         0.080465  11.735409   8.271545   6.788980\n",
       "  2021-11-30   平安中短债A  1.1194         0.000000  12.149459   8.366142   6.739017\n",
       "  2021-12-01   平安中短债A  1.1194         0.000000  11.169730   8.326536   6.719046\n",
       "  2021-12-02   平安中短债A  1.1196         0.017867   9.956202   8.166761   6.708164\n",
       "  ...             ...     ...              ...        ...        ...        ...\n",
       "  2022-11-21   平安中短债A  1.1432         0.008748 -11.207691  -3.529146   2.428098\n",
       "  2022-11-22   平安中短债A  1.1430        -0.017495 -11.390419  -3.662368   2.364320\n",
       "  2022-11-23   平安中短债A  1.1432         0.017498 -11.207691  -3.529146   2.345568\n",
       "  2022-11-24   平安中短债A  1.1447         0.131211  -9.826202  -2.792167   2.415675\n",
       "  2022-11-25   平安中短债A  1.1447              NaN  -9.457626  -2.658246   2.397352\n",
       "  \n",
       "  [243 rows x 6 columns],\n",
       "             SEC_NAME     NAV  NAV_ADJ_RETURN1  RETURN_1M  RETURN_3M  RETURN_1Y\n",
       "  2021-11-26   平安中短债E  1.1114         0.054015  12.545206   7.665893   6.431916\n",
       "  2021-11-29   平安中短债E  1.1122         0.071981  11.458203   7.973692   6.498519\n",
       "  2021-11-30   平安中短债E  1.1122         0.000000  11.861963   8.064757   6.448511\n",
       "  2021-12-01   平安中短债E  1.1122         0.000000  10.878657   8.064757   6.428520\n",
       "  2021-12-02   平安中短债E  1.1125         0.026974   9.659919   7.903736   6.437240\n",
       "  ...             ...     ...              ...        ...        ...        ...\n",
       "  2022-11-21   平安中短债E  1.1331         0.008826 -11.392428  -3.760395   2.163917\n",
       "  2022-11-22   平安中短债E  1.1329        -0.017651 -11.576400  -3.894441   2.099856\n",
       "  2022-11-23   平安中短债E  1.1331         0.017654 -11.392428  -3.760395   2.081081\n",
       "  2022-11-24   平安中短债E  1.1345         0.123555 -10.094788  -3.052657   2.151990\n",
       "  2022-11-25   平安中短债E  1.1345              NaN  -9.724093  -2.917984   2.133597\n",
       "  \n",
       "  [243 rows x 6 columns]]]"
      ]
     },
     "execution_count": 56,
     "metadata": {},
     "output_type": "execute_result"
    }
   ],
   "source": [
    "a.data"
   ]
  }
 ],
 "metadata": {
  "kernelspec": {
   "display_name": "Python 3.9.12 ('base')",
   "language": "python",
   "name": "python3"
  },
  "language_info": {
   "codemirror_mode": {
    "name": "ipython",
    "version": 3
   },
   "file_extension": ".py",
   "mimetype": "text/x-python",
   "name": "python",
   "nbconvert_exporter": "python",
   "pygments_lexer": "ipython3",
   "version": "3.9.12"
  },
  "orig_nbformat": 4,
  "vscode": {
   "interpreter": {
    "hash": "ad2bdc8ecc057115af97d19610ffacc2b4e99fae6737bb82f5d7fb13d2f2c186"
   }
  }
 },
 "nbformat": 4,
 "nbformat_minor": 2
}
