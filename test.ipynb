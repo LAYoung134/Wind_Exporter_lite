{
 "cells": [
  {
   "cell_type": "code",
   "execution_count": 120,
   "metadata": {},
   "outputs": [
    {
     "data": {
      "text/html": [
       "<div>\n",
       "<style scoped>\n",
       "    .dataframe tbody tr th:only-of-type {\n",
       "        vertical-align: middle;\n",
       "    }\n",
       "\n",
       "    .dataframe tbody tr th {\n",
       "        vertical-align: top;\n",
       "    }\n",
       "\n",
       "    .dataframe thead th {\n",
       "        text-align: right;\n",
       "    }\n",
       "</style>\n",
       "<table border=\"1\" class=\"dataframe\">\n",
       "  <thead>\n",
       "    <tr style=\"text-align: right;\">\n",
       "      <th></th>\n",
       "      <th>SEC_NAME</th>\n",
       "      <th>NAV</th>\n",
       "      <th>NAV_ADJ_RETURN1</th>\n",
       "      <th>RETURN_1M</th>\n",
       "      <th>RETURN_3M</th>\n",
       "      <th>RETURN_1Y</th>\n",
       "    </tr>\n",
       "  </thead>\n",
       "  <tbody>\n",
       "    <tr>\n",
       "      <th>2022-11-07</th>\n",
       "      <td>平安短债A</td>\n",
       "      <td>1.1488</td>\n",
       "      <td>0.008705</td>\n",
       "      <td>2.492929</td>\n",
       "      <td>1.922233</td>\n",
       "      <td>3.170184</td>\n",
       "    </tr>\n",
       "    <tr>\n",
       "      <th>2022-11-08</th>\n",
       "      <td>平安短债A</td>\n",
       "      <td>1.1486</td>\n",
       "      <td>-0.017409</td>\n",
       "      <td>2.283034</td>\n",
       "      <td>1.710601</td>\n",
       "      <td>3.124439</td>\n",
       "    </tr>\n",
       "    <tr>\n",
       "      <th>2022-11-09</th>\n",
       "      <td>平安短债A</td>\n",
       "      <td>1.1485</td>\n",
       "      <td>-0.008706</td>\n",
       "      <td>2.178233</td>\n",
       "      <td>1.710751</td>\n",
       "      <td>3.124719</td>\n",
       "    </tr>\n",
       "    <tr>\n",
       "      <th>2022-11-10</th>\n",
       "      <td>平安短债A</td>\n",
       "      <td>1.1482</td>\n",
       "      <td>-0.026121</td>\n",
       "      <td>1.031175</td>\n",
       "      <td>1.570145</td>\n",
       "      <td>3.070018</td>\n",
       "    </tr>\n",
       "    <tr>\n",
       "      <th>2022-11-11</th>\n",
       "      <td>平安短债A</td>\n",
       "      <td>1.1478</td>\n",
       "      <td>-0.034837</td>\n",
       "      <td>0.514333</td>\n",
       "      <td>1.500236</td>\n",
       "      <td>3.034111</td>\n",
       "    </tr>\n",
       "    <tr>\n",
       "      <th>2022-11-14</th>\n",
       "      <td>平安短债A</td>\n",
       "      <td>1.1463</td>\n",
       "      <td>-0.130685</td>\n",
       "      <td>-1.325670</td>\n",
       "      <td>0.974999</td>\n",
       "      <td>2.890225</td>\n",
       "    </tr>\n",
       "    <tr>\n",
       "      <th>2022-11-15</th>\n",
       "      <td>平安短债A</td>\n",
       "      <td>1.1453</td>\n",
       "      <td>-0.087237</td>\n",
       "      <td>-2.334451</td>\n",
       "      <td>0.416772</td>\n",
       "      <td>2.791240</td>\n",
       "    </tr>\n",
       "    <tr>\n",
       "      <th>2022-11-16</th>\n",
       "      <td>平安短债A</td>\n",
       "      <td>1.1443</td>\n",
       "      <td>-0.087313</td>\n",
       "      <td>-3.333787</td>\n",
       "      <td>-0.034663</td>\n",
       "      <td>2.683058</td>\n",
       "    </tr>\n",
       "    <tr>\n",
       "      <th>2022-11-17</th>\n",
       "      <td>平安短债A</td>\n",
       "      <td>1.1436</td>\n",
       "      <td>-0.061173</td>\n",
       "      <td>-4.420734</td>\n",
       "      <td>-0.277055</td>\n",
       "      <td>2.601830</td>\n",
       "    </tr>\n",
       "    <tr>\n",
       "      <th>2022-11-18</th>\n",
       "      <td>平安短债A</td>\n",
       "      <td>1.1438</td>\n",
       "      <td>0.017489</td>\n",
       "      <td>-4.321913</td>\n",
       "      <td>-0.242434</td>\n",
       "      <td>2.601363</td>\n",
       "    </tr>\n",
       "  </tbody>\n",
       "</table>\n",
       "</div>"
      ],
      "text/plain": [
       "           SEC_NAME     NAV  NAV_ADJ_RETURN1  RETURN_1M  RETURN_3M  RETURN_1Y\n",
       "2022-11-07    平安短债A  1.1488         0.008705   2.492929   1.922233   3.170184\n",
       "2022-11-08    平安短债A  1.1486        -0.017409   2.283034   1.710601   3.124439\n",
       "2022-11-09    平安短债A  1.1485        -0.008706   2.178233   1.710751   3.124719\n",
       "2022-11-10    平安短债A  1.1482        -0.026121   1.031175   1.570145   3.070018\n",
       "2022-11-11    平安短债A  1.1478        -0.034837   0.514333   1.500236   3.034111\n",
       "2022-11-14    平安短债A  1.1463        -0.130685  -1.325670   0.974999   2.890225\n",
       "2022-11-15    平安短债A  1.1453        -0.087237  -2.334451   0.416772   2.791240\n",
       "2022-11-16    平安短债A  1.1443        -0.087313  -3.333787  -0.034663   2.683058\n",
       "2022-11-17    平安短债A  1.1436        -0.061173  -4.420734  -0.277055   2.601830\n",
       "2022-11-18    平安短债A  1.1438         0.017489  -4.321913  -0.242434   2.601363"
      ]
     },
     "execution_count": 120,
     "metadata": {},
     "output_type": "execute_result"
    }
   ],
   "source": [
    "from WindPy import w\n",
    "from datetime import datetime, timedelta\n",
    "w.start()\n",
    "date = '2022-11-18'\n",
    "code = ['005754.OF', '005756.OF', '008911.OF', '008913.OF', '007935.OF', '007936.OF', '008696.OF', '004827.OF', '006851.OF']\n",
    "w.wsd(code[0], \"sec_name,nav,NAV_adj_return1,return_1m,return_3m,return_1y\", '2022-11-5', '2022-11-18', \"annualized=1\", usedf=True)[1]"
   ]
  },
  {
   "cell_type": "code",
   "execution_count": 110,
   "metadata": {},
   "outputs": [
    {
     "data": {
      "text/plain": [
       "<__main__.Wind_Exporter at 0x25069975f90>"
      ]
     },
     "execution_count": 110,
     "metadata": {},
     "output_type": "execute_result"
    }
   ],
   "source": [
    "from typing import Literal\n",
    "from WindPy import w\n",
    "import pandas as pd\n",
    "import numpy as np\n",
    "from datetime import datetime, timedelta\n",
    "\n",
    "class Wind_Exporter:\n",
    "    def __init__(self, code:str|list, indicator:str, method:Literal['wsd','wss']='wsd', Date_List:list=None, StartDate=None, EndDate=None, options=None):\n",
    "        self.method = method\n",
    "        self.code = code\n",
    "        self.EndDate = EndDate if EndDate else datetime.today().strftime('%Y-%m-%d')\n",
    "        self.Date_List = Date_List\n",
    "        self.StartDate = EndDate if StartDate is None else StartDate\n",
    "        self.indicator = indicator\n",
    "        self.options = options\n",
    "        self.data = []\n",
    "\n",
    "    def check_connection(func):\n",
    "        if not w.isconnected():\n",
    "            w.start()\n",
    "        return func\n",
    "\n",
    "    @staticmethod\n",
    "    def create_date_col(df, date):\n",
    "        df['date'] = date\n",
    "        column = np.roll(np.arange(len(df.columns)), 1)\n",
    "        column[0], column[1] =column[1], column[0]\n",
    "        return df.iloc[:, column]\n",
    "\n",
    "    @check_connection\n",
    "    def get_data(self, output:Literal[None,'df','excel']=None, round=None):\n",
    "        if self.method == 'wsd':\n",
    "            self.get_data_wsd()\n",
    "        elif self.method == 'wss':\n",
    "            self.get_data_wss()\n",
    "        else:\n",
    "            raise ValueError('method must be wsd or wss')\n",
    "\n",
    "\n",
    "        if round is not None:\n",
    "            for i in range(len(self.data)):\n",
    "                self.data[i] = self.data[i].round(round)\n",
    "\n",
    "        \n",
    "        if output == 'df':\n",
    "            return self.data\n",
    "        elif output == 'excel':\n",
    "            pass\n",
    "        else:\n",
    "            return self\n",
    "\n",
    "    def get_data_wsd(self):\n",
    "        if self.Date_List is None:\n",
    "            if self.StartDate == self.EndDate:\n",
    "                multi_data = []\n",
    "                for i in self.code:\n",
    "                    data_ = w.wsd(i, self.indicator, self.StartDate, self.EndDate, options=self.options, usedf=True)\n",
    "                    multi_data.append(data_[1])\n",
    "                df = self.create_date_col(pd.concat(multi_data, axis=0), self.EndDate) \n",
    "                self.data.append(df)\n",
    "            else:\n",
    "                multi_data = []\n",
    "                for i in self.code:\n",
    "                    data_ = w.wsd(i, self.indicator, self.StartDate, self.EndDate, options=self.options, usedf=True)\n",
    "                    multi_data.append(data_[1])\n",
    "                self.data.append(multi_data)\n",
    "        else:\n",
    "            for date in self.Date_List:\n",
    "                multi_data = []\n",
    "                for i in self.code:\n",
    "                    data_ = w.wsd(i, self.indicator, date, date, options=self.options, usedf=True)\n",
    "                    multi_data.append(data_[1])\n",
    "                df = self.create_date_col(pd.concat(multi_data, axis=0), date)\n",
    "                self.data.append(df)\n",
    "        return self\n",
    "    def get_data_wss(self):\n",
    "        pass\n",
    "\n",
    "\n",
    "    def excel_export(self, path=None, sheet_name:list=None, column_name:list=None):\n",
    "        if path is None:\n",
    "            if self.Date_List is None:\n",
    "                if self.StartDate == self.EndDate:\n",
    "                    path = f'./output/{self.EndDate}.xlsx'\n",
    "                else:\n",
    "                    path = f'./output/{self.StartDate}_{self.EndDate}.xlsx'\n",
    "            else:\n",
    "                path = f'./output/{self.Date_List[0]}.xlsx'\n",
    "        if sheet_name is None:\n",
    "            sheet_name = np.arange(len(self.data)) + 1\n",
    "        if column_name is not None:\n",
    "            for i in range(len(self.data)):\n",
    "                self.data[i].columns = column_name\n",
    "        with pd.ExcelWriter(path) as writer:\n",
    "            for i in range(len(self.data)):\n",
    "                self.data[i].to_excel(writer, sheet_name=f'{sheet_name[i]}')\n",
    "        return self\n",
    "    def df_export(self):\n",
    "        return self.data\n",
    "        \n",
    "\n",
    "\n",
    "indicator = \"sec_name,nav,NAV_adj_return1,return_1m,return_3m,return_1y\"\n",
    "date = ['2022-11-18', '2022-11-17']\n",
    "code = ['005754.OF', '005756.OF', '008911.OF', '008913.OF', '007935.OF', '007936.OF', '008696.OF', '004827.OF', '006851.OF']\n",
    "Wind_Exporter(code, method='wsd', indicator=indicator, EndDate='2022-11-18', options=\"annualized=1\").get_data(round=2).excel_export()\n",
    "# wsd_parser(code, indicator=indicator, Date_List=date, options=\"annualized=1\").get_data()\n",
    "\n",
    "code_for_meiri_str = \"\"\"002450.OF,004827.OF,015645.OF,008694.OF,005754.OF,700003.OF,000739.OF,007935.OF,009661.OF,009878.OF,010126.OF,014460.OF,013767.OF,013687.OF,004390.OF,012475.OF,007893.OF,885001.WI\"\"\"\n",
    "data_meiri = w.wss(code_for_meiri_str, \"sec_name,nav,NAV_adj_return1,NAV_adj_return,return_ytd\",f\"tradeDate={end_date_};startDate={date_before_1m};endDate={end_date_};annualized=0\")\n",
    "\n"
   ]
  },
  {
   "cell_type": "code",
   "execution_count": 132,
   "metadata": {},
   "outputs": [
    {
     "data": {
      "text/plain": [
       "<WdpCore.Wind_Exporter at 0x25069ba2470>"
      ]
     },
     "execution_count": 132,
     "metadata": {},
     "output_type": "execute_result"
    }
   ],
   "source": [
    "from WdpCore import Wind_Exporter\n",
    "indicator = \"sec_name,nav,NAV_adj_return1,return_1m,return_3m,return_1y\"\n",
    "date = ['2022-11-18', '2022-11-17']\n",
    "code = ['005754.OF', '005756.OF', '008911.OF', '008913.OF', '007935.OF', '007936.OF', '008696.OF', '004827.OF', '006851.OF']\n",
    "Wind_Exporter(code, method='wsd', indicator=indicator, Date_List=date, options=\"annualized=1\").get_data(round=2).excel_export(sheet_name=['666', '777'])"
   ]
  },
  {
   "cell_type": "code",
   "execution_count": 99,
   "metadata": {},
   "outputs": [
    {
     "name": "stdout",
     "output_type": "stream",
     "text": [
      "0\n",
      "1\n"
     ]
    }
   ],
   "source": [
    "for i in range(2):\n",
    "    print(i)"
   ]
  },
  {
   "cell_type": "code",
   "execution_count": 126,
   "metadata": {},
   "outputs": [
    {
     "data": {
      "text/plain": [
       ".ErrorCode=0\n",
       ".Codes=[002450.OF]\n",
       ".Fields=[NAV_ADJ_RETURN]\n",
       ".Times=[20221119 21:30:14]\n",
       ".Data=[[-1.1076650420912688]]"
      ]
     },
     "execution_count": 126,
     "metadata": {},
     "output_type": "execute_result"
    }
   ],
   "source": [
    "code_for_meiri_str = \"\"\"002450.OF,004827.OF,015645.OF,008694.OF,005754.OF,700003.OF,000739.OF,007935.OF,009661.OF,009878.OF,010126.OF,014460.OF,013767.OF,013687.OF,004390.OF,012475.OF,007893.OF,885001.WI\"\"\"\n",
    "# w.wss(code_for_meiri_str, \"sec_name,nav,NAV_adj_return1,NAV_adj_return,return_ytd\",\"tradeDate='2022-11-18';startDate='2022-10-19';endDate='2022-11-18';annualized=0\")\n",
    "w.wss(\"002450.OF\",\"NAV_adj_return\",\"startDate=20221117;endDate=20221118\")\n",
    "# w.wss(\"009878.OF\", \"sec_name\")"
   ]
  },
  {
   "cell_type": "code",
   "execution_count": 103,
   "metadata": {},
   "outputs": [],
   "source": [
    "output = Wind_Exporter(code, method='wsd', indicator=indicator, EndDate='2022-11-18', options=\"annualized=1\").get_data().data\n"
   ]
  },
  {
   "cell_type": "code",
   "execution_count": 106,
   "metadata": {},
   "outputs": [
    {
     "ename": "TypeError",
     "evalue": "expected string or bytes-like object",
     "output_type": "error",
     "traceback": [
      "\u001b[1;31m---------------------------------------------------------------------------\u001b[0m",
      "\u001b[1;31mTypeError\u001b[0m                                 Traceback (most recent call last)",
      "\u001b[1;32mc:\\Users\\Light_ouo\\Documents\\Code\\Wind_Exporter_lite\\test.ipynb Cell 5\u001b[0m in \u001b[0;36m<cell line: 1>\u001b[1;34m()\u001b[0m\n\u001b[0;32m      <a href='vscode-notebook-cell:/c%3A/Users/Light_ouo/Documents/Code/Wind_Exporter_lite/test.ipynb#W5sZmlsZQ%3D%3D?line=0'>1</a>\u001b[0m \u001b[39mwith\u001b[39;00m pd\u001b[39m.\u001b[39mExcelWriter(\u001b[39m'\u001b[39m\u001b[39m./output/2022-11-18.xlsx\u001b[39m\u001b[39m'\u001b[39m) \u001b[39mas\u001b[39;00m writer:\n\u001b[0;32m      <a href='vscode-notebook-cell:/c%3A/Users/Light_ouo/Documents/Code/Wind_Exporter_lite/test.ipynb#W5sZmlsZQ%3D%3D?line=1'>2</a>\u001b[0m     \u001b[39mfor\u001b[39;00m i \u001b[39min\u001b[39;00m \u001b[39mrange\u001b[39m(\u001b[39mlen\u001b[39m(output)):\n\u001b[1;32m----> <a href='vscode-notebook-cell:/c%3A/Users/Light_ouo/Documents/Code/Wind_Exporter_lite/test.ipynb#W5sZmlsZQ%3D%3D?line=2'>3</a>\u001b[0m         output[i]\u001b[39m.\u001b[39;49mto_excel(writer,sheet_name\u001b[39m=\u001b[39;49mi\u001b[39m+\u001b[39;49m\u001b[39m1\u001b[39;49m)\n",
      "File \u001b[1;32mc:\\Users\\Light_ouo\\AppData\\Local\\Programs\\Python\\Python310\\lib\\site-packages\\pandas\\core\\generic.py:2345\u001b[0m, in \u001b[0;36mNDFrame.to_excel\u001b[1;34m(self, excel_writer, sheet_name, na_rep, float_format, columns, header, index, index_label, startrow, startcol, engine, merge_cells, encoding, inf_rep, verbose, freeze_panes, storage_options)\u001b[0m\n\u001b[0;32m   2332\u001b[0m \u001b[39mfrom\u001b[39;00m \u001b[39mpandas\u001b[39;00m\u001b[39m.\u001b[39;00m\u001b[39mio\u001b[39;00m\u001b[39m.\u001b[39;00m\u001b[39mformats\u001b[39;00m\u001b[39m.\u001b[39;00m\u001b[39mexcel\u001b[39;00m \u001b[39mimport\u001b[39;00m ExcelFormatter\n\u001b[0;32m   2334\u001b[0m formatter \u001b[39m=\u001b[39m ExcelFormatter(\n\u001b[0;32m   2335\u001b[0m     df,\n\u001b[0;32m   2336\u001b[0m     na_rep\u001b[39m=\u001b[39mna_rep,\n\u001b[1;32m   (...)\u001b[0m\n\u001b[0;32m   2343\u001b[0m     inf_rep\u001b[39m=\u001b[39minf_rep,\n\u001b[0;32m   2344\u001b[0m )\n\u001b[1;32m-> 2345\u001b[0m formatter\u001b[39m.\u001b[39;49mwrite(\n\u001b[0;32m   2346\u001b[0m     excel_writer,\n\u001b[0;32m   2347\u001b[0m     sheet_name\u001b[39m=\u001b[39;49msheet_name,\n\u001b[0;32m   2348\u001b[0m     startrow\u001b[39m=\u001b[39;49mstartrow,\n\u001b[0;32m   2349\u001b[0m     startcol\u001b[39m=\u001b[39;49mstartcol,\n\u001b[0;32m   2350\u001b[0m     freeze_panes\u001b[39m=\u001b[39;49mfreeze_panes,\n\u001b[0;32m   2351\u001b[0m     engine\u001b[39m=\u001b[39;49mengine,\n\u001b[0;32m   2352\u001b[0m     storage_options\u001b[39m=\u001b[39;49mstorage_options,\n\u001b[0;32m   2353\u001b[0m )\n",
      "File \u001b[1;32mc:\\Users\\Light_ouo\\AppData\\Local\\Programs\\Python\\Python310\\lib\\site-packages\\pandas\\io\\formats\\excel.py:894\u001b[0m, in \u001b[0;36mExcelFormatter.write\u001b[1;34m(self, writer, sheet_name, startrow, startcol, freeze_panes, engine, storage_options)\u001b[0m\n\u001b[0;32m    891\u001b[0m     need_save \u001b[39m=\u001b[39m \u001b[39mTrue\u001b[39;00m\n\u001b[0;32m    893\u001b[0m \u001b[39mtry\u001b[39;00m:\n\u001b[1;32m--> 894\u001b[0m     writer\u001b[39m.\u001b[39;49mwrite_cells(\n\u001b[0;32m    895\u001b[0m         formatted_cells,\n\u001b[0;32m    896\u001b[0m         sheet_name,\n\u001b[0;32m    897\u001b[0m         startrow\u001b[39m=\u001b[39;49mstartrow,\n\u001b[0;32m    898\u001b[0m         startcol\u001b[39m=\u001b[39;49mstartcol,\n\u001b[0;32m    899\u001b[0m         freeze_panes\u001b[39m=\u001b[39;49mfreeze_panes,\n\u001b[0;32m    900\u001b[0m     )\n\u001b[0;32m    901\u001b[0m \u001b[39mfinally\u001b[39;00m:\n\u001b[0;32m    902\u001b[0m     \u001b[39m# make sure to close opened file handles\u001b[39;00m\n\u001b[0;32m    903\u001b[0m     \u001b[39mif\u001b[39;00m need_save:\n",
      "File \u001b[1;32mc:\\Users\\Light_ouo\\AppData\\Local\\Programs\\Python\\Python310\\lib\\site-packages\\pandas\\io\\excel\\_openpyxl.py:452\u001b[0m, in \u001b[0;36mOpenpyxlWriter.write_cells\u001b[1;34m(self, cells, sheet_name, startrow, startcol, freeze_panes)\u001b[0m\n\u001b[0;32m    450\u001b[0m \u001b[39melse\u001b[39;00m:\n\u001b[0;32m    451\u001b[0m     wks \u001b[39m=\u001b[39m \u001b[39mself\u001b[39m\u001b[39m.\u001b[39mbook\u001b[39m.\u001b[39mcreate_sheet()\n\u001b[1;32m--> 452\u001b[0m     wks\u001b[39m.\u001b[39;49mtitle \u001b[39m=\u001b[39m sheet_name\n\u001b[0;32m    453\u001b[0m     \u001b[39mself\u001b[39m\u001b[39m.\u001b[39msheets[sheet_name] \u001b[39m=\u001b[39m wks\n\u001b[0;32m    455\u001b[0m \u001b[39mif\u001b[39;00m validate_freeze_panes(freeze_panes):\n",
      "File \u001b[1;32mc:\\Users\\Light_ouo\\AppData\\Local\\Programs\\Python\\Python310\\lib\\site-packages\\openpyxl\\workbook\\child.py:90\u001b[0m, in \u001b[0;36m_WorkbookChild.title\u001b[1;34m(self, value)\u001b[0m\n\u001b[0;32m     87\u001b[0m         \u001b[39mexcept\u001b[39;00m \u001b[39mUnicodeDecodeError\u001b[39;00m:\n\u001b[0;32m     88\u001b[0m             \u001b[39mraise\u001b[39;00m \u001b[39mValueError\u001b[39;00m(\u001b[39m\"\u001b[39m\u001b[39mWorksheet titles must be str\u001b[39m\u001b[39m\"\u001b[39m)\n\u001b[1;32m---> 90\u001b[0m m \u001b[39m=\u001b[39m INVALID_TITLE_REGEX\u001b[39m.\u001b[39;49msearch(value)\n\u001b[0;32m     91\u001b[0m \u001b[39mif\u001b[39;00m m:\n\u001b[0;32m     92\u001b[0m     msg \u001b[39m=\u001b[39m \u001b[39m\"\u001b[39m\u001b[39mInvalid character \u001b[39m\u001b[39m{0}\u001b[39;00m\u001b[39m found in sheet title\u001b[39m\u001b[39m\"\u001b[39m\u001b[39m.\u001b[39mformat(m\u001b[39m.\u001b[39mgroup(\u001b[39m0\u001b[39m))\n",
      "\u001b[1;31mTypeError\u001b[0m: expected string or bytes-like object"
     ]
    }
   ],
   "source": [
    "with pd.ExcelWriter('./output/2022-11-18.xlsx') as writer:\n",
    "    for i in range(len(output)):\n",
    "        output[i].to_excel(writer,sheet_name=i+1)"
   ]
  },
  {
   "cell_type": "code",
   "execution_count": null,
   "metadata": {},
   "outputs": [],
   "source": [
    "pd.DateOffset"
   ]
  }
 ],
 "metadata": {
  "kernelspec": {
   "display_name": "Python 3.10.6 64-bit",
   "language": "python",
   "name": "python3"
  },
  "language_info": {
   "codemirror_mode": {
    "name": "ipython",
    "version": 3
   },
   "file_extension": ".py",
   "mimetype": "text/x-python",
   "name": "python",
   "nbconvert_exporter": "python",
   "pygments_lexer": "ipython3",
   "version": "3.10.6"
  },
  "orig_nbformat": 4,
  "vscode": {
   "interpreter": {
    "hash": "d72f7f87005a6425b9f7cfa93c5e281bd525dad356eeb7f54dc178c16fa9e240"
   }
  }
 },
 "nbformat": 4,
 "nbformat_minor": 2
}
