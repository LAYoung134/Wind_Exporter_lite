{
 "cells": [
  {
   "cell_type": "code",
   "execution_count": 1,
   "metadata": {},
   "outputs": [
    {
     "name": "stdout",
     "output_type": "stream",
     "text": [
      "Welcome to use Wind Quant API for Python (WindPy)!\n",
      "\n",
      "COPYRIGHT (C) 2020 WIND INFORMATION CO., LTD. ALL RIGHTS RESERVED.\n",
      "IN NO CIRCUMSTANCE SHALL WIND BE RESPONSIBLE FOR ANY DAMAGES OR LOSSES CAUSED BY USING WIND QUANT API FOR Python.\n"
     ]
    },
    {
     "data": {
      "text/html": [
       "<div>\n",
       "<style scoped>\n",
       "    .dataframe tbody tr th:only-of-type {\n",
       "        vertical-align: middle;\n",
       "    }\n",
       "\n",
       "    .dataframe tbody tr th {\n",
       "        vertical-align: top;\n",
       "    }\n",
       "\n",
       "    .dataframe thead th {\n",
       "        text-align: right;\n",
       "    }\n",
       "</style>\n",
       "<table border=\"1\" class=\"dataframe\">\n",
       "  <thead>\n",
       "    <tr style=\"text-align: right;\">\n",
       "      <th></th>\n",
       "      <th>SEC_NAME</th>\n",
       "      <th>NAV</th>\n",
       "      <th>NAV_ADJ_RETURN1</th>\n",
       "      <th>RETURN_1M</th>\n",
       "      <th>RETURN_3M</th>\n",
       "      <th>RETURN_1Y</th>\n",
       "    </tr>\n",
       "  </thead>\n",
       "  <tbody>\n",
       "    <tr>\n",
       "      <th>2022-11-07</th>\n",
       "      <td>平安短债A</td>\n",
       "      <td>1.1488</td>\n",
       "      <td>0.008705</td>\n",
       "      <td>2.492929</td>\n",
       "      <td>1.922233</td>\n",
       "      <td>3.170184</td>\n",
       "    </tr>\n",
       "    <tr>\n",
       "      <th>2022-11-08</th>\n",
       "      <td>平安短债A</td>\n",
       "      <td>1.1486</td>\n",
       "      <td>-0.017409</td>\n",
       "      <td>2.283034</td>\n",
       "      <td>1.710601</td>\n",
       "      <td>3.124439</td>\n",
       "    </tr>\n",
       "    <tr>\n",
       "      <th>2022-11-09</th>\n",
       "      <td>平安短债A</td>\n",
       "      <td>1.1485</td>\n",
       "      <td>-0.008706</td>\n",
       "      <td>2.178233</td>\n",
       "      <td>1.710751</td>\n",
       "      <td>3.124719</td>\n",
       "    </tr>\n",
       "    <tr>\n",
       "      <th>2022-11-10</th>\n",
       "      <td>平安短债A</td>\n",
       "      <td>1.1482</td>\n",
       "      <td>-0.026121</td>\n",
       "      <td>1.031175</td>\n",
       "      <td>1.570145</td>\n",
       "      <td>3.070018</td>\n",
       "    </tr>\n",
       "    <tr>\n",
       "      <th>2022-11-11</th>\n",
       "      <td>平安短债A</td>\n",
       "      <td>1.1478</td>\n",
       "      <td>-0.034837</td>\n",
       "      <td>0.514333</td>\n",
       "      <td>1.500236</td>\n",
       "      <td>3.034111</td>\n",
       "    </tr>\n",
       "    <tr>\n",
       "      <th>2022-11-14</th>\n",
       "      <td>平安短债A</td>\n",
       "      <td>1.1463</td>\n",
       "      <td>-0.130685</td>\n",
       "      <td>-1.325670</td>\n",
       "      <td>0.974999</td>\n",
       "      <td>2.890225</td>\n",
       "    </tr>\n",
       "    <tr>\n",
       "      <th>2022-11-15</th>\n",
       "      <td>平安短债A</td>\n",
       "      <td>1.1453</td>\n",
       "      <td>-0.087237</td>\n",
       "      <td>-2.334451</td>\n",
       "      <td>0.416772</td>\n",
       "      <td>2.791240</td>\n",
       "    </tr>\n",
       "    <tr>\n",
       "      <th>2022-11-16</th>\n",
       "      <td>平安短债A</td>\n",
       "      <td>1.1443</td>\n",
       "      <td>-0.087313</td>\n",
       "      <td>-3.333787</td>\n",
       "      <td>-0.034663</td>\n",
       "      <td>2.683058</td>\n",
       "    </tr>\n",
       "    <tr>\n",
       "      <th>2022-11-17</th>\n",
       "      <td>平安短债A</td>\n",
       "      <td>1.1436</td>\n",
       "      <td>-0.061173</td>\n",
       "      <td>-4.420734</td>\n",
       "      <td>-0.277055</td>\n",
       "      <td>2.601830</td>\n",
       "    </tr>\n",
       "    <tr>\n",
       "      <th>2022-11-18</th>\n",
       "      <td>平安短债A</td>\n",
       "      <td>1.1438</td>\n",
       "      <td>0.017489</td>\n",
       "      <td>-4.321913</td>\n",
       "      <td>-0.242434</td>\n",
       "      <td>2.601363</td>\n",
       "    </tr>\n",
       "  </tbody>\n",
       "</table>\n",
       "</div>"
      ],
      "text/plain": [
       "           SEC_NAME     NAV  NAV_ADJ_RETURN1  RETURN_1M  RETURN_3M  RETURN_1Y\n",
       "2022-11-07    平安短债A  1.1488         0.008705   2.492929   1.922233   3.170184\n",
       "2022-11-08    平安短债A  1.1486        -0.017409   2.283034   1.710601   3.124439\n",
       "2022-11-09    平安短债A  1.1485        -0.008706   2.178233   1.710751   3.124719\n",
       "2022-11-10    平安短债A  1.1482        -0.026121   1.031175   1.570145   3.070018\n",
       "2022-11-11    平安短债A  1.1478        -0.034837   0.514333   1.500236   3.034111\n",
       "2022-11-14    平安短债A  1.1463        -0.130685  -1.325670   0.974999   2.890225\n",
       "2022-11-15    平安短债A  1.1453        -0.087237  -2.334451   0.416772   2.791240\n",
       "2022-11-16    平安短债A  1.1443        -0.087313  -3.333787  -0.034663   2.683058\n",
       "2022-11-17    平安短债A  1.1436        -0.061173  -4.420734  -0.277055   2.601830\n",
       "2022-11-18    平安短债A  1.1438         0.017489  -4.321913  -0.242434   2.601363"
      ]
     },
     "execution_count": 1,
     "metadata": {},
     "output_type": "execute_result"
    }
   ],
   "source": [
    "from WindPy import w\n",
    "from datetime import datetime, timedelta\n",
    "w.start()\n",
    "date = '2022-11-18'\n",
    "code = ['005754.OF', '005756.OF', '008911.OF', '008913.OF', '007935.OF', '007936.OF', '008696.OF', '004827.OF', '006851.OF']\n",
    "w.wsd(code[0], \"sec_name,nav,NAV_adj_return1,return_1m,return_3m,return_1y\", '2022-11-5', '2022-11-18', \"annualized=1\", usedf=True)[1]"
   ]
  },
  {
   "cell_type": "code",
   "execution_count": 7,
   "metadata": {},
   "outputs": [],
   "source": [
    "from WindPy import w\n",
    "import pandas as pd\n",
    "import numpy as np\n",
    "from datetime import datetime, timedelta\n",
    "try:\n",
    "    from typing import Literal\n",
    "except ImportError:\n",
    "    from typing_extensions import Literal\n",
    "from dateutil.relativedelta import relativedelta"
   ]
  },
  {
   "cell_type": "code",
   "execution_count": 5,
   "metadata": {},
   "outputs": [
    {
     "name": "stdout",
     "output_type": "stream",
     "text": [
      "Welcome to use Wind Quant API for Python (WindPy)!\n",
      "\n",
      "COPYRIGHT (C) 2020 WIND INFORMATION CO., LTD. ALL RIGHTS RESERVED.\n",
      "IN NO CIRCUMSTANCE SHALL WIND BE RESPONSIBLE FOR ANY DAMAGES OR LOSSES CAUSED BY USING WIND QUANT API FOR Python.\n"
     ]
    }
   ],
   "source": [
    "\n",
    "class Wind_Exporter:\n",
    "    \"\"\"\n",
    "    Wind_Exporter\n",
    "    =====\n",
    "    code: list\n",
    "        股票代码, 例如['000001.SZ', '000002.SZ']\n",
    "    indicator: str\n",
    "        指标, 例如'close'\n",
    "    method: str (default: 'wsd')\n",
    "        wsd: 单日期 \n",
    "        wss: 日期截面数据\n",
    "    Date_List: list (default: None)\n",
    "        日期列表, 例如['2020-01-01', '2020-01-02']\n",
    "    StartDate: str (default: None)\n",
    "        起始日期, 例如'2020-01-01'\n",
    "    EndDate: str (default: None)\n",
    "        结束日期, 例如'2020-01-02'\n",
    "    options: str (default: None)\n",
    "        选项, 遵循Wind API的options参数\n",
    "    \"\"\"\n",
    "\n",
    "    def __init__(self, code=None, indicator: str = None, method: Literal['wsd', 'wss'] = 'wsd', \n",
    "                    Date_List: list = None, StartDate: Literal['before1m', 'before1y', None] = None, EndDate=None, options=None):\n",
    "        self.method = method\n",
    "        self.code = code if isinstance(code, list) else [\n",
    "            i for i in code.split(',')]\n",
    "        self.EndDate = EndDate if EndDate else datetime.today().strftime('%Y-%m-%d')\n",
    "        self.Date_List = Date_List\n",
    "        self.StartDate = EndDate if StartDate is None else StartDate\n",
    "        self.set_date()\n",
    "        self.indicator = indicator\n",
    "        self.options = options\n",
    "        self.data = []\n",
    "\n",
    "    def __len__(self):\n",
    "        return len(self.data)\n",
    "\n",
    "    def __repr__(self):\n",
    "        return f'Wind_Exporter({self.code}, {self.indicator}, {self.method}, {self.Date_List}, {self.StartDate}, {self.EndDate}, {self.options}), With data length {len(self)}'\n",
    "\n",
    "    def check_connection(func):\n",
    "        if not w.isconnected():\n",
    "            w.start()\n",
    "        return func\n",
    "\n",
    "    @staticmethod\n",
    "    def create_date_col(df, date):\n",
    "        df['date'] = date\n",
    "        column = np.roll(np.arange(len(df.columns)), 1)\n",
    "        column[0], column[1] = column[1], column[0]\n",
    "        return df.iloc[:, column]\n",
    "    \n",
    "\n",
    "#my_dict = {'code':['005754.OF', '005756.OF', '008911.OF', '008913.OF', '007935.OF', '007936.OF', '008696.OF', '004827.OF', '006851.OF'],\n",
    "            # 'indicator':\"sec_name,nav_date,nav,NAV_adj_return1,return_1m,return_3m,return_1y\", 'options':\"annualized=1\", 'method':\"wsd\"}\n",
    "    @classmethod\n",
    "    def from_dict(cls, data: dict):\n",
    "        return cls(**data) \n",
    "        \n",
    "\n",
    "    def set_date(self):\n",
    "        date_before_1m = (datetime.strptime(self.EndDate, '%Y-%m-%d') -\n",
    "                          relativedelta(months=1) + relativedelta(days=1)).strftime('%Y%m%d')\n",
    "        date_before_1y = (datetime.strptime(self.EndDate, '%Y-%m-%d') -\n",
    "                          relativedelta(years=1) + relativedelta(days=1)).strftime('%Y%m%d')\n",
    "        if self.StartDate == 'before1m':\n",
    "            self.StartDate = date_before_1m\n",
    "        elif self.StartDate == 'before1y':\n",
    "            self.StartDate = date_before_1y\n",
    "        else:\n",
    "            pass\n",
    "\n",
    "    @check_connection\n",
    "    def get_data(self, output: Literal['df', 'excel'] = None, round_=None):\n",
    "        if self.method == 'wsd':\n",
    "            self.get_data_wsd()\n",
    "        elif self.method == 'wss':\n",
    "            self.get_data_wss()\n",
    "        else:\n",
    "            raise ValueError('method must be wsd or wss')\n",
    "\n",
    "        if round_ is not None:\n",
    "            for i in range(len(self.data)):\n",
    "                self.data[i] = self.data[i].round(round_)\n",
    "        if output == 'df':\n",
    "            return self.data\n",
    "        elif output == 'excel':\n",
    "            pass\n",
    "        else:\n",
    "            return self\n",
    "\n",
    "    def get_data_wsd(self):\n",
    "        if self.Date_List is None:\n",
    "            if self.StartDate == self.EndDate:\n",
    "                multi_data = []\n",
    "                for i in self.code:\n",
    "                    data_ = w.wsd(i, self.indicator, self.StartDate,\n",
    "                                  self.EndDate, options=self.options, usedf=True)\n",
    "                    multi_data.append(data_[1])\n",
    "                self.data.append(pd.concat(multi_data, axis=0))\n",
    "            else:\n",
    "                multi_data = []\n",
    "                for i in self.code:\n",
    "                    data_ = w.wsd(i, self.indicator, self.StartDate,\n",
    "                                  self.EndDate, options=self.options, usedf=True)\n",
    "                    multi_data.append(data_[1])\n",
    "                self.data.append(multi_data)\n",
    "        else:\n",
    "            for date in self.Date_List:\n",
    "                multi_data = []\n",
    "                for i in self.code:\n",
    "                    data_ = w.wsd(i, self.indicator, date, date,\n",
    "                                  options=self.options, usedf=True)\n",
    "                    multi_data.append(data_[1])\n",
    "                self.data.append(pd.concat(multi_data, axis=0))\n",
    "        return self\n",
    "\n",
    "# w.wss(\"002450.OF\",\"NAV_adj_return\",\"startDate=20221117;endDate=20221118\")\n",
    "# w.wss(\"009878.OF\", \"sec_name\",\"startDate=20221117;endDate=20221118\")\n",
    "\n",
    "    @check_connection\n",
    "    def combine_wss(self, group_data: list):\n",
    "        for i in group_data:\n",
    "            data_ = []\n",
    "            for j in i:\n",
    "                data_.append(j[1])\n",
    "            data_ = pd.concat(data_, axis=1)\n",
    "            self.data.append(data_)\n",
    "        return self\n",
    "\n",
    "    def get_data_wss(self):\n",
    "        self.StartDate = self.StartDate.replace('-', '')\n",
    "        self.EndDate = self.EndDate.replace('-', '')\n",
    "        args = [self.options, self.StartDate, self.EndDate]\n",
    "        if self.options is None:\n",
    "            args = args[1:]\n",
    "        options = f'startDate={args[0]};endDate={args[1]};tradeDate={args[1]}' if len(\n",
    "            args) == 2 else f'{args[0]};startDate={args[1]};endDate={args[2]};tradeDate={args[2]}'\n",
    "        print(options)\n",
    "        data_ = w.wss(self.code, self.indicator, options=options, usedf=True)\n",
    "        self.data.append(data_[1])\n",
    "        return self\n",
    "\n",
    "    def add_data(self, we_obj, method: Literal['concat', 'append'] = 'concat', round_=None):\n",
    "        if method == 'concat':\n",
    "            we_obj.get_data(round_=round_)\n",
    "            self.data[-1] = pd.concat([self.data[-1], we_obj.data[-1]], axis=1)\n",
    "        elif method == 'append':\n",
    "            we_obj.get_data(round_=round_)\n",
    "            for i in we_obj.data:\n",
    "                self.data.append(i)\n",
    "        else:\n",
    "            raise ValueError('method must be concat or append')\n",
    "        return self\n",
    "\n",
    "    def excel_export(self, path=None, sheet_name: list = None, column_name: list = None):\n",
    "        \"\"\"\n",
    "        导出为Excel\n",
    "        =====\n",
    "        path: str (default: None)\n",
    "            导出路径, 例如'./data.xlsx', 默认为None, 会在output目录下生成{日期/开始日期_结束日期}.xlsx\n",
    "        sheet_name: list (default: None)\n",
    "            sheet名称, 例如['sheet1', 'sheet2'], 默认为None, 会使用工作簿数量作为sheet名称\n",
    "        column_name: list (default: None)\n",
    "            列名称, 二维数组, 例如[['col1', 'col2'], ['col1', 'col2']], 默认为None, 会使用Wind默认列名称\n",
    "        \"\"\"\n",
    "        if path is None:\n",
    "            if self.Date_List is None:\n",
    "                if self.StartDate == self.EndDate:\n",
    "                    path = f'./output/{self.EndDate}.xlsx'\n",
    "                else:\n",
    "                    path = f'./output/{self.StartDate}_{self.EndDate}.xlsx'\n",
    "            else:\n",
    "                path = f'./output/{self.Date_List[0]}.xlsx'\n",
    "        if sheet_name is None:\n",
    "            sheet_name = np.arange(len(self.data)) + 1\n",
    "        if column_name is not None:\n",
    "            try:\n",
    "                _ = column_name[0][0]\n",
    "            except:\n",
    "                raise ValueError('column_name 应当是二维列表')\n",
    "            for i, data in enumerate(self.data):\n",
    "                try:\n",
    "                    data.columns = column_name[i]\n",
    "                    print(column_name[i])\n",
    "                    print('更名完成')\n",
    "                except:\n",
    "                    raise ValueError('列名数与数据不匹配')\n",
    "        with pd.ExcelWriter(path, datetime_format='YYYY-MM-DD') as writer:\n",
    "            for i in enumerate(self.data):\n",
    "                i[1].to_excel(writer, sheet_name=sheet_name[i[0]])\n",
    "        return self"
   ]
  },
  {
   "cell_type": "code",
   "execution_count": 6,
   "metadata": {},
   "outputs": [
    {
     "name": "stdout",
     "output_type": "stream",
     "text": [
      "annualized=0;startDate=20221124;endDate=20221124;tradeDate=20221124\n",
      "annualized=0;startDate=20221025;endDate=20221124;tradeDate=20221124\n",
      "startDate=20211125;endDate=20221124;tradeDate=20221124\n"
     ]
    },
    {
     "data": {
      "text/plain": [
       "Wind_Exporter(['005754.OF', '005756.OF', '008911.OF', '008913.OF', '007935.OF', '007936.OF', '008696.OF', '004827.OF', '006851.OF'], sec_name,nav_date,nav,NAV_adj_return1,return_1m,return_3m,return_1y, wsd, None, 2022-11-24, 2022-11-24, annualized=1), With data length 5"
      ]
     },
     "execution_count": 6,
     "metadata": {},
     "output_type": "execute_result"
    }
   ],
   "source": [
    "code_for_zhai = ['005754.OF', '005756.OF', '008911.OF', '008913.OF', '007935.OF', '007936.OF', '008696.OF', '004827.OF', '006851.OF']\n",
    "code_for_ETF = ['516760.OF', '516820.OF', '515700.OF', '561600.OF']\n",
    "code_cundan_str = \"\"\"015645.OF,015644.OF,015826.OF,015862.OF,014437.OF,015823.OF,015648.OF,014427.OF,015822.OF,015647.OF,015875.OF,\n",
    "                        014426.OF,015864.OF,015861.OF,015646.OF,015643.OF,014430.OF,015956.OF,015825.OF,014428.OF,015827.OF,015863.OF,014429.OF,015944.OF,015955.OF,016082.OF,016063.OF,016083.OF\"\"\"\n",
    "code_for_meiri_str = \"\"\"002450.OF,004827.OF,015645.OF,008694.OF,005754.OF,700003.OF,000739.OF,007935.OF,009661.OF,009878.OF,\n",
    "                        010126.OF,014460.OF,013767.OF,013687.OF,004390.OF,012475.OF,007893.OF,885001.WI\"\"\"\n",
    "\n",
    "choice_data = \"2022-11-24\"\n",
    "a = Wind_Exporter(code=code_for_zhai, indicator=\"sec_name,nav_date,nav,NAV_adj_return1,return_1m,return_3m,return_1y\",options=\"annualized=1\",method=\"wsd\",EndDate=choice_data)\n",
    "b = Wind_Exporter(code=code_for_ETF, indicator=\"sec_name,nav_date,nav,NAV_adj_return1,return_1w,return_1m\",options=\"annualized=1\",method=\"wsd\",EndDate=choice_data)\n",
    "c = Wind_Exporter(code=\"015645.OF\", indicator=\"sec_name,nav_date,nav,NAV_adj_return1,return_1w,return_1m\",options=\"annualized=1\",method=\"wsd\",EndDate=choice_data)\n",
    "d = Wind_Exporter(code=code_cundan_str, indicator=\"sec_name,nav_date,return,risk_annualintervalyield,issue_date,fund_setupdate\",options=\"annualized=0\",method=\"wss\",EndDate=choice_data)\n",
    "e = Wind_Exporter(code=code_for_meiri_str, indicator=\"sec_name,nav_date,nav,NAV_adj_return1,NAV_adj_return,return_ytd\",options=\"annualized=0\",method=\"wss\",StartDate=\"before1m\",EndDate=choice_data)\n",
    "e_ = Wind_Exporter(code=code_for_meiri_str, indicator=\"NAV_adj_return\",method=\"wss\",StartDate=\"before1y\",EndDate=choice_data)\n",
    "a.get_data(round_=4).add_data(b, method='append',round_=4).add_data(c, method='append',round_=4).add_data(d, method='append',round_=4).add_data(e, method='append',round_=4).add_data(e_, method='concat',round_=4)\n"
   ]
  },
  {
   "cell_type": "code",
   "execution_count": null,
   "metadata": {},
   "outputs": [],
   "source": [
    "a.data[3]"
   ]
  },
  {
   "cell_type": "code",
   "execution_count": 52,
   "metadata": {},
   "outputs": [
    {
     "data": {
      "text/plain": [
       "Wind_Exporter(['005754.OF', '005756.OF', '008911.OF', '008913.OF', '007935.OF', '007936.OF', '008696.OF', '004827.OF', '006851.OF'], sec_name,nav_date,nav,NAV_adj_return1,return_1m,return_3m,return_1y, wsd, None, 2022-11-24, 2022-11-24, annualized=1), With data length 5"
      ]
     },
     "execution_count": 52,
     "metadata": {},
     "output_type": "execute_result"
    }
   ],
   "source": [
    "a.excel_export(sheet_name=['债', 'ETF', '同业', '存单', '每日'], column_name=[['证券简称', '基金净值日期','单位净值', '当期复权单位净值增长率', '近1月回报', '近3月回报', '近1年回报'],\n",
    "                ['证券简称', '基金净值日期','单位净值', '当期复权单位净值增长率', '近1周回报', '近1月回报'],['证券简称', '基金净值日期','单位净值', '当期复权单位净值增长率', '近1周回报', '近1月回报'],\n",
    "                ['证券简称', '基金净值日期','区间回报', '区间收益率', '发行日期', '基金成立日'], ['证券简称', '基金净值日期','单位净值', '当期复权单位净值增长率', '复权单位净值增长率(截止日1月前)', '今年以来回报', '复权单位净值增长率(截止日1年前)']],\n",
    "                path='./output/{}.xlsx'.format(choice_data))"
   ]
  },
  {
   "cell_type": "code",
   "execution_count": 1,
   "metadata": {},
   "outputs": [
    {
     "name": "stdout",
     "output_type": "stream",
     "text": [
      "Welcome to use Wind Quant API for Python (WindPy)!\n",
      "\n",
      "COPYRIGHT (C) 2020 WIND INFORMATION CO., LTD. ALL RIGHTS RESERVED.\n",
      "IN NO CIRCUMSTANCE SHALL WIND BE RESPONSIBLE FOR ANY DAMAGES OR LOSSES CAUSED BY USING WIND QUANT API FOR Python.\n"
     ]
    },
    {
     "data": {
      "text/plain": [
       "Wind_Exporter(['002450.OF', '004827.OF', '015645.OF', '008694.OF', '005754.OF', '700003.OF', '000739.OF', '007935.OF', '009661.OF', '009878.OF', '010126.OF', '014460.OF', '013767.OF', '013687.OF', '004390.OF', '012475.OF', '007893.OF', '885001.WI'], NAV_adj_return, wss, None, 20211125, 20221124, None), With data length 1"
      ]
     },
     "execution_count": 1,
     "metadata": {},
     "output_type": "execute_result"
    }
   ],
   "source": [
    "from wdpcore import Wind_Exporter\n",
    "# code = [[w.wss(\"516760.OF,516820.OF,515700.OF,561600.OF\", \"swing\",\"tradeDate=20221122;cycle=D\", usedf=True)],\n",
    "# [w.wss(\"002450.OF\",\"NAV_adj_return\",\"startDate=20221117;endDate=20221118\", usedf=True),w.wss(\"009878.OF\", \"sec_name\",\"startDate=20221117;endDate=20221118\", usedf=True)]]\n",
    "code = ['002450.OF','009878.OF']\n",
    "code_for_meiri_str = \"\"\"002450.OF,004827.OF,015645.OF,008694.OF,005754.OF,700003.OF,000739.OF,007935.OF,009661.OF,009878.OF,010126.OF,014460.OF,013767.OF,013687.OF,004390.OF,012475.OF,007893.OF,885001.WI\"\"\"\n",
    "# a = Wind_Exporter(method='wss', code=code_for_meiri_str, indicator=\"sec_name,nav_date,nav,NAV_adj_return1,NAV_adj_return,return_ytd\",StartDate='before1m',EndDate='2022-11-24',options=\"annualized=0\")\n",
    "b = Wind_Exporter(method='wss', code=code_for_meiri_str, indicator=\"NAV_adj_return\",StartDate=\"before1y\",EndDate='2022-11-24')\n",
    "b.get_data()\n"
   ]
  },
  {
   "cell_type": "code",
   "execution_count": 2,
   "metadata": {},
   "outputs": [
    {
     "data": {
      "text/plain": [
       "Wind_Exporter(['002450.OF', '004827.OF', '015645.OF', '008694.OF', '005754.OF', '700003.OF', '000739.OF', '007935.OF', '009661.OF', '009878.OF', '010126.OF', '014460.OF', '013767.OF', '013687.OF', '004390.OF', '012475.OF', '007893.OF', '885001.WI'], NAV_adj_return, wss, None, 20211125, 20221124, None), With data length 1"
      ]
     },
     "execution_count": 2,
     "metadata": {},
     "output_type": "execute_result"
    }
   ],
   "source": [
    "b.excel_export()"
   ]
  },
  {
   "cell_type": "code",
   "execution_count": 11,
   "metadata": {},
   "outputs": [
    {
     "data": {
      "text/plain": [
       "'2022-12-01'"
      ]
     },
     "execution_count": 11,
     "metadata": {},
     "output_type": "execute_result"
    }
   ],
   "source": [
    "import datetime as dt\n",
    "dt.datetime.today().strftime('%Y-%m-%d')"
   ]
  },
  {
   "cell_type": "code",
   "execution_count": 5,
   "metadata": {},
   "outputs": [
    {
     "data": {
      "text/plain": [
       ".ErrorCode=0\n",
       ".Codes=[]\n",
       ".Fields=[]\n",
       ".Times=[20221124]\n",
       ".Data=[[2022-11-24 00:00:00]]"
      ]
     },
     "execution_count": 5,
     "metadata": {},
     "output_type": "execute_result"
    }
   ],
   "source": [
    "import datetime\n",
    "from WindPy import w\n",
    "today = datetime.date.today() \n",
    "w.tdaysoffset(-5, today, \"Period=D;Days=Trading\")"
   ]
  },
  {
   "cell_type": "code",
   "execution_count": 15,
   "metadata": {},
   "outputs": [
    {
     "data": {
      "text/plain": [
       "[[datetime.datetime(2022, 11, 17, 0, 0)]]"
      ]
     },
     "execution_count": 15,
     "metadata": {},
     "output_type": "execute_result"
    }
   ],
   "source": [
    "import datetime\n",
    "from WindPy import w\n",
    "today = datetime.date.today() \n",
    "w.tdaysoffset(-10, today, \"Period=D;Days=Trading\").Data"
   ]
  },
  {
   "cell_type": "code",
   "execution_count": 5,
   "metadata": {},
   "outputs": [
    {
     "data": {
      "text/plain": [
       "'20221124'"
      ]
     },
     "execution_count": 5,
     "metadata": {},
     "output_type": "execute_result"
    }
   ],
   "source": [
    "b.EndDate"
   ]
  },
  {
   "cell_type": "code",
   "execution_count": null,
   "metadata": {},
   "outputs": [],
   "source": []
  },
  {
   "cell_type": "code",
   "execution_count": 33,
   "metadata": {},
   "outputs": [
    {
     "name": "stdout",
     "output_type": "stream",
     "text": [
      "startDate=20211125;endDate=20221124;tradeDate=20221124\n"
     ]
    },
    {
     "data": {
      "text/plain": [
       "Wind_Exporter(['002450.OF', '004827.OF', '015645.OF', '008694.OF', '005754.OF', '700003.OF', '000739.OF', '007935.OF', '009661.OF', '009878.OF', '010126.OF', '014460.OF', '013767.OF', '013687.OF', '004390.OF', '012475.OF', '007893.OF', '885001.WI'], sec_name,nav_date,nav,NAV_adj_return1,NAV_adj_return,return_ytd, wss, None, 20221025, 20221124, annualized=0), With data length 1"
      ]
     },
     "execution_count": 33,
     "metadata": {},
     "output_type": "execute_result"
    }
   ],
   "source": [
    "a.add_data(b, method='concat',round_=4)\n"
   ]
  },
  {
   "cell_type": "code",
   "execution_count": 1,
   "metadata": {},
   "outputs": [
    {
     "name": "stdout",
     "output_type": "stream",
     "text": [
      "Welcome to use Wind Quant API for Python (WindPy)!\n",
      "\n",
      "COPYRIGHT (C) 2020 WIND INFORMATION CO., LTD. ALL RIGHTS RESERVED.\n",
      "IN NO CIRCUMSTANCE SHALL WIND BE RESPONSIBLE FOR ANY DAMAGES OR LOSSES CAUSED BY USING WIND QUANT API FOR Python.\n"
     ]
    },
    {
     "data": {
      "text/plain": [
       "Wind_Exporter(['005754.OF', '005756.OF', '008911.OF', '008913.OF', '007935.OF', '007936.OF', '008696.OF', '004827.OF', '006851.OF'], sec_name,nav_date,nav,NAV_adj_return1,return_1m,return_3m,return_1y, wsd, None, -21TD, 2022-12-02, annualized=1), With data length 9"
      ]
     },
     "execution_count": 1,
     "metadata": {},
     "output_type": "execute_result"
    }
   ],
   "source": [
    "from WdpCore import Wind_Exporter\n",
    "code_for_zhai = ['005754.OF', '005756.OF', '008911.OF', '008913.OF', '007935.OF', '007936.OF', '008696.OF', '004827.OF', '006851.OF']\n",
    "a = Wind_Exporter(code=code_for_zhai, indicator=\"sec_name,nav_date,nav,NAV_adj_return1,return_1m,return_3m,return_1y\",options=\"annualized=1\",method=\"wsd\",StartDate=\"-21TD\")\n",
    "a.get_data(round_=4)"
   ]
  },
  {
   "cell_type": "code",
   "execution_count": 2,
   "metadata": {},
   "outputs": [
    {
     "data": {
      "text/plain": [
       "Wind_Exporter(['005754.OF', '005756.OF', '007935.OF', '007936.OF'], sec_name,nav_date,nav,NAV_adj_return1,return_1y, wsd, None, -21TD, 2022-12-02, annualized=1), With data length 4"
      ]
     },
     "execution_count": 2,
     "metadata": {},
     "output_type": "execute_result"
    }
   ],
   "source": [
    "from WdpCore import Wind_Exporter\n",
    "code_for_zhai = ['005754.OF', '005756.OF', '007935.OF', '007936.OF']\n",
    "info = [\n",
    "\"\"\"购买信息：\n",
    " A类(005754)申购费率0.10%-0.30%，赎回费率0.00%-1.50%（>30天赎回费率=0）\"\"\",\n",
    "\"\"\"购买信息：\n",
    " E类(005756)销售服务费率0.25%（每年），赎回费率0.00%-1.50%（＞30天赎回费率=0）\"\"\",\n",
    "\"\"\"购买信息：\n",
    " A类(007935)申购费率：M＜100万，费率0.8%；100万≤M＜300万，费率0.50%；300万≤M＜500万，费率0.30%；M≥500万，每笔1000元；赎回费率：0.00%-1.50%（≥30天赎回费率=0）\"\"\",\n",
    "\"\"\"购买信息：\n",
    " C类(007936)销售服务费率0.50%（每年）；赎回费率：0.00%-1.50%（≥30天赎回费率=0）\"\"\"]\n",
    "a = Wind_Exporter(code=code_for_zhai, indicator=\"sec_name,nav_date,nav,NAV_adj_return1,return_1y\",options=\"annualized=1\",method=\"wsd\",StartDate=\"-21TD\")\n",
    "a.get_data()"
   ]
  },
  {
   "cell_type": "code",
   "execution_count": 3,
   "metadata": {},
   "outputs": [],
   "source": [
    "data = []\n",
    "for i,code in enumerate(code_for_zhai):\n",
    "    b = a.data[i].sort_values(by='NAV_DATE', ascending=False)\n",
    "    name = b['SEC_NAME'].iloc[0]\n",
    "    b.NAV_ADJ_RETURN1 = (b.NAV_ADJ_RETURN1/100).round(4)\n",
    "    b.RETURN_1Y = (b.RETURN_1Y/100).round(4)\n",
    "    data.append([b,name,code])"
   ]
  },
  {
   "cell_type": "code",
   "execution_count": 16,
   "metadata": {},
   "outputs": [],
   "source": [
    "import xlwings as xw\n",
    "import datetime as dt\n",
    "# invisible_app = xw.App(visible=False)\n",
    "# book = invisible_app.books.open('./template/zhai_tem.xlsx')\n",
    "book = xw.Book('./template/zhai2_tem.xlsx')"
   ]
  },
  {
   "cell_type": "code",
   "execution_count": 17,
   "metadata": {},
   "outputs": [],
   "source": [
    "for i in range(len(data)//2):\n",
    "    i_ = i*2\n",
    "    sheet_ = book.sheets[0]\n",
    "    sheet_.name = data[i_][1]\n",
    "    sheet_[\"A4\"].options(index=False, header=False).value = data[i_][0].sort_values(by='NAV_DATE', ascending=False).loc[:,[\"NAV_DATE\",\"NAV\",\"NAV_ADJ_RETURN1\"]]\n",
    "    sheet_[\"F4\"].options(index=False, header=False).value = data[i_][0].sort_values(by='NAV_DATE', ascending=False).loc[:,[\"RETURN_1Y\"]]\n",
    "    sheet_[\"A1\"].value = f\"{data[i_][1]}（{data[i_][2].replace('.OF','')}）收益情况播报\"\n",
    "    sheet_[\"A26\"].value = info[i]\n",
    "\n",
    "    sheet_[\"A31\"].options(index=False, header=False).value = data[i_+1][0].sort_values(by='NAV_DATE', ascending=False).loc[:,[\"NAV_DATE\",\"NAV\",\"NAV_ADJ_RETURN1\"]]\n",
    "    sheet_[\"F31\"].options(index=False, header=False).value = data[i_+1][0].sort_values(by='NAV_DATE', ascending=False).loc[:,[\"RETURN_1Y\"]]\n",
    "    sheet_[\"A28\"].value = f\"{data[i_+1][1]}（{data[i_+1][2].replace('.OF','')}）收益情况播报\"\n",
    "    sheet_[\"A53\"].value = info[i+1]\n",
    "    sheet_.copy()\n",
    "# book.save(f\"./output/债券基金收益情况播报_{dt.datetime.now().strftime('%Y-%m-%d')}.xlsx\")\n",
    "# invisible_app.quit()"
   ]
  },
  {
   "cell_type": "code",
   "execution_count": 14,
   "metadata": {},
   "outputs": [],
   "source": [
    "sheet_[\"A53\"].rows.autofit()"
   ]
  },
  {
   "cell_type": "code",
   "execution_count": null,
   "metadata": {},
   "outputs": [],
   "source": [
    "book.close()"
   ]
  },
  {
   "cell_type": "code",
   "execution_count": 58,
   "metadata": {},
   "outputs": [],
   "source": [
    "for n,i in enumerate(data):\n",
    "    sheet_ = book.sheets[0]\n",
    "\n",
    "    sheet_.name = i[1]\n",
    "    sheet_[\"A4\"].options(index=False, header=False).value = i[0].sort_values(by='NAV_DATE', ascending=False).loc[:,[\"NAV_DATE\",\"NAV\",\"NAV_ADJ_RETURN1\"]]\n",
    "    sheet_[\"F4\"].options(index=False, header=False).value = i[0].sort_values(by='NAV_DATE', ascending=False).loc[:,[\"RETURN_1Y\"]]\n",
    "    sheet_[\"A1\"].value = f\"{i[1]}（{i[2].replace('.OF','')}）收益情况播报\"\n",
    "    sheet_[\"A26\"].value = info[n]\n",
    "    sheet_.copy()\n",
    "book.save(f\"./output/债券基金收益情况播报_{dt.datetime.now().strftime('%Y-%m-%d')}.xlsx\")\n",
    "invisible_app.quit()"
   ]
  },
  {
   "cell_type": "code",
   "execution_count": null,
   "metadata": {},
   "outputs": [],
   "source": []
  },
  {
   "cell_type": "code",
   "execution_count": null,
   "metadata": {},
   "outputs": [],
   "source": [
    "str.replace(\".OF\",\"\")"
   ]
  },
  {
   "cell_type": "code",
   "execution_count": 21,
   "metadata": {},
   "outputs": [],
   "source": [
    "sheet1[\"A26\"].value = \"\"\"购买信息：\n",
    " A类(005754)申购费率0.10%-0.30%，赎回费率0.00%-1.50%（>30天赎回费率=0）\"\"\"\n",
    "\n",
    "book.sheets\n",
    "\n",
    "\n",
    "book.save('./1.xlsx')"
   ]
  },
  {
   "cell_type": "code",
   "execution_count": 26,
   "metadata": {},
   "outputs": [
    {
     "data": {
      "text/plain": [
       "Sheets([<Sheet [1.xlsx]平安短债（近1年）>, <Sheet [1.xlsx]平安短债（近1年） (2)>, <Sheet [1.xlsx]平安短债（近1年） (3)>])"
      ]
     },
     "execution_count": 26,
     "metadata": {},
     "output_type": "execute_result"
    }
   ],
   "source": [
    "book.sheets.\n"
   ]
  },
  {
   "cell_type": "code",
   "execution_count": 35,
   "metadata": {},
   "outputs": [
    {
     "data": {
      "text/html": [
       "<div>\n",
       "<style scoped>\n",
       "    .dataframe tbody tr th:only-of-type {\n",
       "        vertical-align: middle;\n",
       "    }\n",
       "\n",
       "    .dataframe tbody tr th {\n",
       "        vertical-align: top;\n",
       "    }\n",
       "\n",
       "    .dataframe thead th {\n",
       "        text-align: right;\n",
       "    }\n",
       "</style>\n",
       "<table border=\"1\" class=\"dataframe\">\n",
       "  <thead>\n",
       "    <tr style=\"text-align: right;\">\n",
       "      <th></th>\n",
       "      <th>SEC_NAME</th>\n",
       "      <th>NAV_DATE</th>\n",
       "      <th>NAV</th>\n",
       "      <th>NAV_ADJ_RETURN1</th>\n",
       "      <th>RETURN_1Y</th>\n",
       "    </tr>\n",
       "  </thead>\n",
       "  <tbody>\n",
       "    <tr>\n",
       "      <th>2022-12-01</th>\n",
       "      <td>平安短债A</td>\n",
       "      <td>2022-12-01</td>\n",
       "      <td>1.1447</td>\n",
       "      <td>-0.0002</td>\n",
       "      <td>0.0255</td>\n",
       "    </tr>\n",
       "    <tr>\n",
       "      <th>2022-11-30</th>\n",
       "      <td>平安短债A</td>\n",
       "      <td>2022-11-30</td>\n",
       "      <td>1.1449</td>\n",
       "      <td>-0.0002</td>\n",
       "      <td>0.0258</td>\n",
       "    </tr>\n",
       "    <tr>\n",
       "      <th>2022-11-29</th>\n",
       "      <td>平安短债A</td>\n",
       "      <td>2022-11-29</td>\n",
       "      <td>1.1451</td>\n",
       "      <td>-0.0004</td>\n",
       "      <td>0.0260</td>\n",
       "    </tr>\n",
       "    <tr>\n",
       "      <th>2022-11-28</th>\n",
       "      <td>平安短债A</td>\n",
       "      <td>2022-11-28</td>\n",
       "      <td>1.1456</td>\n",
       "      <td>0.0002</td>\n",
       "      <td>0.0266</td>\n",
       "    </tr>\n",
       "    <tr>\n",
       "      <th>2022-11-25</th>\n",
       "      <td>平安短债A</td>\n",
       "      <td>2022-11-25</td>\n",
       "      <td>1.1454</td>\n",
       "      <td>0.0002</td>\n",
       "      <td>0.0267</td>\n",
       "    </tr>\n",
       "    <tr>\n",
       "      <th>2022-11-24</th>\n",
       "      <td>平安短债A</td>\n",
       "      <td>2022-11-24</td>\n",
       "      <td>1.1452</td>\n",
       "      <td>0.0008</td>\n",
       "      <td>0.0266</td>\n",
       "    </tr>\n",
       "    <tr>\n",
       "      <th>2022-11-23</th>\n",
       "      <td>平安短债A</td>\n",
       "      <td>2022-11-23</td>\n",
       "      <td>1.1443</td>\n",
       "      <td>0.0003</td>\n",
       "      <td>0.0259</td>\n",
       "    </tr>\n",
       "    <tr>\n",
       "      <th>2022-11-22</th>\n",
       "      <td>平安短债A</td>\n",
       "      <td>2022-11-22</td>\n",
       "      <td>1.1440</td>\n",
       "      <td>-0.0001</td>\n",
       "      <td>0.0258</td>\n",
       "    </tr>\n",
       "    <tr>\n",
       "      <th>2022-11-21</th>\n",
       "      <td>平安短债A</td>\n",
       "      <td>2022-11-21</td>\n",
       "      <td>1.1441</td>\n",
       "      <td>0.0003</td>\n",
       "      <td>0.0262</td>\n",
       "    </tr>\n",
       "    <tr>\n",
       "      <th>2022-11-18</th>\n",
       "      <td>平安短债A</td>\n",
       "      <td>2022-11-18</td>\n",
       "      <td>1.1438</td>\n",
       "      <td>0.0002</td>\n",
       "      <td>0.0260</td>\n",
       "    </tr>\n",
       "    <tr>\n",
       "      <th>2022-11-17</th>\n",
       "      <td>平安短债A</td>\n",
       "      <td>2022-11-17</td>\n",
       "      <td>1.1436</td>\n",
       "      <td>-0.0006</td>\n",
       "      <td>0.0260</td>\n",
       "    </tr>\n",
       "    <tr>\n",
       "      <th>2022-11-16</th>\n",
       "      <td>平安短债A</td>\n",
       "      <td>2022-11-16</td>\n",
       "      <td>1.1443</td>\n",
       "      <td>-0.0009</td>\n",
       "      <td>0.0268</td>\n",
       "    </tr>\n",
       "    <tr>\n",
       "      <th>2022-11-15</th>\n",
       "      <td>平安短债A</td>\n",
       "      <td>2022-11-15</td>\n",
       "      <td>1.1453</td>\n",
       "      <td>-0.0009</td>\n",
       "      <td>0.0279</td>\n",
       "    </tr>\n",
       "    <tr>\n",
       "      <th>2022-11-14</th>\n",
       "      <td>平安短债A</td>\n",
       "      <td>2022-11-14</td>\n",
       "      <td>1.1463</td>\n",
       "      <td>-0.0013</td>\n",
       "      <td>0.0289</td>\n",
       "    </tr>\n",
       "    <tr>\n",
       "      <th>2022-11-11</th>\n",
       "      <td>平安短债A</td>\n",
       "      <td>2022-11-11</td>\n",
       "      <td>1.1478</td>\n",
       "      <td>-0.0003</td>\n",
       "      <td>0.0303</td>\n",
       "    </tr>\n",
       "    <tr>\n",
       "      <th>2022-11-10</th>\n",
       "      <td>平安短债A</td>\n",
       "      <td>2022-11-10</td>\n",
       "      <td>1.1482</td>\n",
       "      <td>-0.0003</td>\n",
       "      <td>0.0307</td>\n",
       "    </tr>\n",
       "    <tr>\n",
       "      <th>2022-11-09</th>\n",
       "      <td>平安短债A</td>\n",
       "      <td>2022-11-09</td>\n",
       "      <td>1.1485</td>\n",
       "      <td>-0.0001</td>\n",
       "      <td>0.0312</td>\n",
       "    </tr>\n",
       "    <tr>\n",
       "      <th>2022-11-08</th>\n",
       "      <td>平安短债A</td>\n",
       "      <td>2022-11-08</td>\n",
       "      <td>1.1486</td>\n",
       "      <td>-0.0002</td>\n",
       "      <td>0.0312</td>\n",
       "    </tr>\n",
       "    <tr>\n",
       "      <th>2022-11-07</th>\n",
       "      <td>平安短债A</td>\n",
       "      <td>2022-11-07</td>\n",
       "      <td>1.1488</td>\n",
       "      <td>0.0001</td>\n",
       "      <td>0.0317</td>\n",
       "    </tr>\n",
       "    <tr>\n",
       "      <th>2022-11-04</th>\n",
       "      <td>平安短债A</td>\n",
       "      <td>2022-11-04</td>\n",
       "      <td>1.1487</td>\n",
       "      <td>-0.0001</td>\n",
       "      <td>0.0318</td>\n",
       "    </tr>\n",
       "    <tr>\n",
       "      <th>2022-11-03</th>\n",
       "      <td>平安短债A</td>\n",
       "      <td>2022-11-03</td>\n",
       "      <td>1.1488</td>\n",
       "      <td>0.0000</td>\n",
       "      <td>0.0321</td>\n",
       "    </tr>\n",
       "    <tr>\n",
       "      <th>2022-11-02</th>\n",
       "      <td>平安短债A</td>\n",
       "      <td>2022-11-02</td>\n",
       "      <td>1.1488</td>\n",
       "      <td>0.0002</td>\n",
       "      <td>0.0324</td>\n",
       "    </tr>\n",
       "  </tbody>\n",
       "</table>\n",
       "</div>"
      ],
      "text/plain": [
       "           SEC_NAME   NAV_DATE     NAV  NAV_ADJ_RETURN1  RETURN_1Y\n",
       "2022-12-01    平安短债A 2022-12-01  1.1447          -0.0002     0.0255\n",
       "2022-11-30    平安短债A 2022-11-30  1.1449          -0.0002     0.0258\n",
       "2022-11-29    平安短债A 2022-11-29  1.1451          -0.0004     0.0260\n",
       "2022-11-28    平安短债A 2022-11-28  1.1456           0.0002     0.0266\n",
       "2022-11-25    平安短债A 2022-11-25  1.1454           0.0002     0.0267\n",
       "2022-11-24    平安短债A 2022-11-24  1.1452           0.0008     0.0266\n",
       "2022-11-23    平安短债A 2022-11-23  1.1443           0.0003     0.0259\n",
       "2022-11-22    平安短债A 2022-11-22  1.1440          -0.0001     0.0258\n",
       "2022-11-21    平安短债A 2022-11-21  1.1441           0.0003     0.0262\n",
       "2022-11-18    平安短债A 2022-11-18  1.1438           0.0002     0.0260\n",
       "2022-11-17    平安短债A 2022-11-17  1.1436          -0.0006     0.0260\n",
       "2022-11-16    平安短债A 2022-11-16  1.1443          -0.0009     0.0268\n",
       "2022-11-15    平安短债A 2022-11-15  1.1453          -0.0009     0.0279\n",
       "2022-11-14    平安短债A 2022-11-14  1.1463          -0.0013     0.0289\n",
       "2022-11-11    平安短债A 2022-11-11  1.1478          -0.0003     0.0303\n",
       "2022-11-10    平安短债A 2022-11-10  1.1482          -0.0003     0.0307\n",
       "2022-11-09    平安短债A 2022-11-09  1.1485          -0.0001     0.0312\n",
       "2022-11-08    平安短债A 2022-11-08  1.1486          -0.0002     0.0312\n",
       "2022-11-07    平安短债A 2022-11-07  1.1488           0.0001     0.0317\n",
       "2022-11-04    平安短债A 2022-11-04  1.1487          -0.0001     0.0318\n",
       "2022-11-03    平安短债A 2022-11-03  1.1488           0.0000     0.0321\n",
       "2022-11-02    平安短债A 2022-11-02  1.1488           0.0002     0.0324"
      ]
     },
     "execution_count": 35,
     "metadata": {},
     "output_type": "execute_result"
    }
   ],
   "source": [
    "b"
   ]
  },
  {
   "cell_type": "code",
   "execution_count": 5,
   "metadata": {},
   "outputs": [],
   "source": []
  },
  {
   "cell_type": "code",
   "execution_count": 7,
   "metadata": {},
   "outputs": [],
   "source": [
    "import pandas as pd\n",
    "data1 = pd.read_clipboard()"
   ]
  },
  {
   "cell_type": "code",
   "execution_count": 10,
   "metadata": {},
   "outputs": [],
   "source": [
    "sheet1[\"A4\"].options(index=False, header=False).value = data1.sort_values(by='NAV_DATE', ascending=False).loc[:,[\"NAV_DATE\",\"NAV\",\"NAV_ADJ_RETURN1\"]]\n",
    "sheet1[\"F4\"].options(index=False, header=False).value = data1.sort_values(by='NAV_DATE', ascending=False).loc[:,[\"RETURN_1Y\"]]\n",
    "\n"
   ]
  },
  {
   "cell_type": "code",
   "execution_count": 39,
   "metadata": {},
   "outputs": [],
   "source": [
    "book.close()"
   ]
  },
  {
   "cell_type": "code",
   "execution_count": 8,
   "metadata": {},
   "outputs": [
    {
     "data": {
      "text/plain": [
       "Wind_Exporter(['011828.OF'], NAV_adj_return, wss, None, 20211202, 20221201, None), With data length 1"
      ]
     },
     "execution_count": 8,
     "metadata": {},
     "output_type": "execute_result"
    }
   ],
   "source": [
    "e_ = Wind_Exporter(code='011828.OF', indicator=\"NAV_adj_return\",method=\"wss\",StartDate=\"before1y\")\n",
    "e_.get_data(round_=4)\n"
   ]
  },
  {
   "cell_type": "code",
   "execution_count": 112,
   "metadata": {},
   "outputs": [
    {
     "data": {
      "text/plain": [
       ".ErrorCode=-40521008\n",
       ".Codes=[ErrorReport]\n",
       ".Fields=[OUTMESSAGE]\n",
       ".Times=[20221123 23:01:28]\n",
       ".Data=[[CWSSServiceresponse error.]]"
      ]
     },
     "execution_count": 112,
     "metadata": {},
     "output_type": "execute_result"
    }
   ],
   "source": [
    "code_for_meiri_str = \"\"\"002450.OF,004827.OF,015645.OF,008694.OF,005754.OF,700003.OF,000739.OF,007935.OF,009661.OF,009878.OF,010126.OF,014460.OF,013767.OF,013687.OF,004390.OF,012475.OF,007893.OF,885001.WI\"\"\"\n",
    "w.wss(code_for_meiri_str, \"sec_name,nav,NAV_adj_return1,NAV_adj_return,return_ytd\",\"tradeDate='20221118';startDate='20221018';endDate='20221118';annualized=0\")\n",
    "# w.wss(\"002450.OF\",\"NAV_adj_return\",\"startDate=20221117;endDate=20221118\")\n",
    "# w.wss(\"009878.OF\", \"sec_name\",\"startDate=20221117;endDate=20221118\")\n",
    "# w.wsd(\"015645.OF\", \"sec_name,nav,NAV_adj_return1,return_1w,return_1m\", date, date, \"annualized=1\")"
   ]
  },
  {
   "cell_type": "code",
   "execution_count": 55,
   "metadata": {},
   "outputs": [],
   "source": [
    "indicator = \"sec_name,nav,NAV_adj_return1,return_1m,return_3m,return_1y\"\n",
    "date = ['2022-11-18', '2022-11-17']\n",
    "code = ['005754.OF', '005756.OF', '008911.OF', '008913.OF', '007935.OF', '007936.OF', '008696.OF', '004827.OF', '006851.OF']\n",
    "a = Wind_Exporter(code, method='wsd', indicator=indicator, StartDate='before1y', options=\"annualized=1\").get_data()\n",
    "\n"
   ]
  },
  {
   "cell_type": "code",
   "execution_count": 56,
   "metadata": {},
   "outputs": [
    {
     "data": {
      "text/plain": [
       "[[           SEC_NAME     NAV  NAV_ADJ_RETURN1  RETURN_1M  RETURN_3M  RETURN_1Y\n",
       "  2021-11-26    平安短债A  1.1159         0.026891   4.539945   3.338994   4.202073\n",
       "  2021-11-29    平安短债A  1.1161         0.017923   4.097331   3.449575   4.201288\n",
       "  2021-11-30    平安短债A  1.1161         0.000000   4.236762   3.300796   4.142950\n",
       "  2021-12-01    平安短债A  1.1162         0.008960   3.894961   3.300495   4.123134\n",
       "  2021-12-02    平安短债A  1.1163         0.008959   3.894605   3.300193   4.113039\n",
       "  ...             ...     ...              ...        ...        ...        ...\n",
       "  2022-11-21    平安短债A  1.1441         0.026228  -4.124394  -0.207791   2.619069\n",
       "  2022-11-22    平安短债A  1.1440        -0.008740  -4.223016  -0.311511   2.582496\n",
       "  2022-11-23    平安短债A  1.1443         0.026224  -3.926873  -0.207755   2.590999\n",
       "  2022-11-24    平安短债A  1.1452         0.078651  -3.232057   0.138695   2.662483\n",
       "  2022-11-25    平安短债A  1.1452              NaN  -3.132789   0.173406   2.653281\n",
       "  \n",
       "  [243 rows x 6 columns],\n",
       "             SEC_NAME     NAV  NAV_ADJ_RETURN1  RETURN_1M  RETURN_3M  RETURN_1Y\n",
       "  2021-11-26    平安短债E  1.1065         0.018078   4.244921   3.069504   3.935751\n",
       "  2021-11-29    平安短债E  1.1068         0.027113   3.910462   3.217704   3.954165\n",
       "  2021-11-30    平安短债E  1.1067        -0.009035   3.929098   3.065537   3.886229\n",
       "  2021-12-01    平安短债E  1.1068         0.009036   3.585527   3.027631   3.866366\n",
       "  2021-12-02    平安短债E  1.1069         0.009035   3.585197   3.064973   3.856258\n",
       "  ...             ...     ...              ...        ...        ...        ...\n",
       "  2022-11-21    平安短债E  1.1317         0.026516  -4.466077  -0.454443   2.360709\n",
       "  2022-11-22    平安短债E  1.1317         0.000000  -4.466077  -0.524127   2.332941\n",
       "  2022-11-23    平安短债E  1.1319         0.017673  -4.267101  -0.454363   2.332520\n",
       "  2022-11-24    平安短债E  1.1328         0.079512  -3.467098  -0.105000   2.404628\n",
       "  2022-11-25    平安短债E  1.1328              NaN  -3.367007  -0.070015   2.395372\n",
       "  \n",
       "  [243 rows x 6 columns],\n",
       "              SEC_NAME     NAV  NAV_ADJ_RETURN1  RETURN_1M  RETURN_3M  RETURN_1Y\n",
       "  2021-11-26  平安元丰中短债A  1.0537         0.018984   5.641490   3.344018   4.960653\n",
       "  2021-11-29  平安元丰中短债A  1.0540         0.028471   5.284801   3.421531   4.959171\n",
       "  2021-11-30  平安元丰中短债A  1.0539        -0.009488   5.344013   3.341062   4.844807\n",
       "  2021-12-01  平安元丰中短债A  1.0540         0.009489   4.734789   3.340738   4.781787\n",
       "  2021-12-02  平安元丰中短债A  1.0540         0.000000   4.371394   3.340738   4.760958\n",
       "  ...              ...     ...              ...        ...        ...        ...\n",
       "  2022-11-21  平安元丰中短债A  1.0709         0.065408 -11.046742  -2.980970   1.719225\n",
       "  2022-11-22  平安元丰中短债A  1.0708        -0.009338 -11.144494  -3.052556   1.680752\n",
       "  2022-11-23  平安元丰中短债A  1.0717         0.084049 -10.261176  -2.621524   1.756551\n",
       "  2022-11-24  平安元丰中短债A  1.0728         0.102641  -9.071722  -2.152437   1.841656\n",
       "  2022-11-25  平安元丰中短债A  1.0728              NaN  -8.674814  -1.972291   1.831989\n",
       "  \n",
       "  [243 rows x 6 columns],\n",
       "              SEC_NAME     NAV  NAV_ADJ_RETURN1  RETURN_1M  RETURN_3M  RETURN_1Y\n",
       "  2021-11-26  平安元丰中短债E  1.0494         0.019062   5.427372   3.082649   4.688747\n",
       "  2021-11-29  平安元丰中短债E  1.0496         0.019059   4.952280   3.121323   4.677371\n",
       "  2021-11-30  平安元丰中短债E  1.0495        -0.009527   4.999724   3.037359   4.563116\n",
       "  2021-12-01  平安元丰中短债E  1.0496         0.009528   4.390149   3.037064   4.500199\n",
       "  2021-12-02  平安元丰中短债E  1.0496         0.000000   4.147586   3.037064   4.489796\n",
       "  ...              ...     ...              ...        ...        ...        ...\n",
       "  2022-11-21  平安元丰中短债E  1.0640         0.065833 -11.211231  -3.214990   1.478302\n",
       "  2022-11-22  平安元丰中短债E  1.0639        -0.009398 -11.309434  -3.286845   1.439741\n",
       "  2022-11-23  平安元丰中短债E  1.0647         0.075195 -10.521014  -2.890317   1.506340\n",
       "  2022-11-24  平安元丰中短债E  1.0658         0.103315  -9.327182  -2.383385   1.591841\n",
       "  2022-11-25  平安元丰中短债E  1.0658              NaN  -8.928879  -2.238782   1.582158\n",
       "  \n",
       "  [243 rows x 6 columns],\n",
       "             SEC_NAME     NAV  NAV_ADJ_RETURN1  RETURN_1M  RETURN_3M  RETURN_1Y\n",
       "  2021-11-26  平安惠澜纯债A  1.0950         0.063968  19.444064   9.880813   7.226792\n",
       "  2021-11-29  平安惠澜纯债A  1.0953         0.027397  16.100837  10.081962   7.256169\n",
       "  2021-11-30  平安惠澜纯债A  1.0957         0.036520  17.199523   9.781966   7.221842\n",
       "  2021-12-01  平安惠澜纯债A  1.0956        -0.009127  15.890611   9.536432   7.212056\n",
       "  2021-12-02  平安惠澜纯债A  1.0957         0.009127  15.110371   9.371592   7.179888\n",
       "  ...             ...     ...              ...        ...        ...        ...\n",
       "  2022-11-21  平安惠澜纯债A  1.1267         0.008876  -9.319150  -2.734010   3.158762\n",
       "  2022-11-22  平安惠澜纯债A  1.1265        -0.017751  -9.508495  -2.836472   3.074389\n",
       "  2022-11-23  平安惠澜纯债A  1.1272         0.062139  -8.844201  -2.528570   3.100704\n",
       "  2022-11-24  平安惠澜纯债A  1.1289         0.150816  -7.308404  -1.841107   3.180696\n",
       "  2022-11-25  平安惠澜纯债A  1.1289              NaN  -7.019755  -1.600389   3.161839\n",
       "  \n",
       "  [243 rows x 6 columns],\n",
       "             SEC_NAME     NAV  NAV_ADJ_RETURN1  RETURN_1M  RETURN_3M  RETURN_1Y\n",
       "  2021-11-26  平安惠澜纯债C  1.0843         0.064599  18.866555   9.327223   6.690938\n",
       "  2021-11-29  平安惠澜纯债C  1.0846         0.027668  15.635707   9.529230   6.720457\n",
       "  2021-11-30  平安惠澜纯债C  1.0849         0.027660  16.588671   9.222256   6.686990\n",
       "  2021-12-01  平安惠澜纯债C  1.0848        -0.009217  15.274203   9.016983   6.677156\n",
       "  2021-12-02  平安惠澜纯债C  1.0849         0.009218  14.620726   8.851537   6.645041\n",
       "  ...             ...     ...              ...        ...        ...        ...\n",
       "  2022-11-21  平安惠澜纯债C  1.1102         0.009008  -9.830375  -3.221128   2.644231\n",
       "  2022-11-22  平安惠澜纯债C  1.1100        -0.018015 -10.021448  -3.324548   2.568841\n",
       "  2022-11-23  平安惠澜纯债C  1.1107         0.063063  -9.351068  -2.979335   2.595603\n",
       "  2022-11-24  平安惠澜纯债C  1.1123         0.144053  -7.801573  -2.319823   2.658053\n",
       "  2022-11-25  平安惠澜纯债C  1.1123              NaN  -7.412987  -2.076998   2.648579\n",
       "  \n",
       "  [243 rows x 6 columns],\n",
       "              SEC_NAME     NAV  NAV_ADJ_RETURN1  RETURN_1M  RETURN_3M  RETURN_1Y\n",
       "  2021-11-26  平安元盛超短债E  1.0488         0.000000   3.546770   2.497134   3.269004\n",
       "  2021-11-29  平安元盛超短债E  1.0491         0.028604   3.429253   2.574452   3.288373\n",
       "  2021-11-30  平安元盛超短债E  1.0491         0.000000   3.545564   2.524185   3.237552\n",
       "  2021-12-01  平安元盛超短债E  1.0493         0.019064   3.184342   2.602603   3.236915\n",
       "  2021-12-02  平安元盛超短债E  1.0493         0.000000   3.064466   2.563140   3.216604\n",
       "  ...              ...     ...              ...        ...        ...        ...\n",
       "  2022-11-21  平安元盛超短债E  1.0617        -0.009418  -4.331053  -1.590802   1.278260\n",
       "  2022-11-22  平安元盛超短债E  1.0619         0.018838  -4.118645  -1.627116   1.268358\n",
       "  2022-11-23  平安元盛超短债E  1.0621         0.018834  -3.905805  -1.516951   1.287431\n",
       "  2022-11-24  平安元盛超短债E  1.0632         0.103568  -2.296528  -1.038037   1.382664\n",
       "  2022-11-25  平安元盛超短债E  1.0632              NaN  -1.971985  -0.964341   1.372998\n",
       "  \n",
       "  [243 rows x 6 columns],\n",
       "             SEC_NAME     NAV  NAV_ADJ_RETURN1  RETURN_1M  RETURN_3M  RETURN_1Y\n",
       "  2021-11-26   平安中短债A  1.1185         0.053672  12.819718   7.926593   6.713111\n",
       "  2021-11-29   平安中短债A  1.1194         0.080465  11.735409   8.271545   6.788980\n",
       "  2021-11-30   平安中短债A  1.1194         0.000000  12.149459   8.366142   6.739017\n",
       "  2021-12-01   平安中短债A  1.1194         0.000000  11.169730   8.326536   6.719046\n",
       "  2021-12-02   平安中短债A  1.1196         0.017867   9.956202   8.166761   6.708164\n",
       "  ...             ...     ...              ...        ...        ...        ...\n",
       "  2022-11-21   平安中短债A  1.1432         0.008748 -11.207691  -3.529146   2.428098\n",
       "  2022-11-22   平安中短债A  1.1430        -0.017495 -11.390419  -3.662368   2.364320\n",
       "  2022-11-23   平安中短债A  1.1432         0.017498 -11.207691  -3.529146   2.345568\n",
       "  2022-11-24   平安中短债A  1.1447         0.131211  -9.826202  -2.792167   2.415675\n",
       "  2022-11-25   平安中短债A  1.1447              NaN  -9.457626  -2.658246   2.397352\n",
       "  \n",
       "  [243 rows x 6 columns],\n",
       "             SEC_NAME     NAV  NAV_ADJ_RETURN1  RETURN_1M  RETURN_3M  RETURN_1Y\n",
       "  2021-11-26   平安中短债E  1.1114         0.054015  12.545206   7.665893   6.431916\n",
       "  2021-11-29   平安中短债E  1.1122         0.071981  11.458203   7.973692   6.498519\n",
       "  2021-11-30   平安中短债E  1.1122         0.000000  11.861963   8.064757   6.448511\n",
       "  2021-12-01   平安中短债E  1.1122         0.000000  10.878657   8.064757   6.428520\n",
       "  2021-12-02   平安中短债E  1.1125         0.026974   9.659919   7.903736   6.437240\n",
       "  ...             ...     ...              ...        ...        ...        ...\n",
       "  2022-11-21   平安中短债E  1.1331         0.008826 -11.392428  -3.760395   2.163917\n",
       "  2022-11-22   平安中短债E  1.1329        -0.017651 -11.576400  -3.894441   2.099856\n",
       "  2022-11-23   平安中短债E  1.1331         0.017654 -11.392428  -3.760395   2.081081\n",
       "  2022-11-24   平安中短债E  1.1345         0.123555 -10.094788  -3.052657   2.151990\n",
       "  2022-11-25   平安中短债E  1.1345              NaN  -9.724093  -2.917984   2.133597\n",
       "  \n",
       "  [243 rows x 6 columns]]]"
      ]
     },
     "execution_count": 56,
     "metadata": {},
     "output_type": "execute_result"
    }
   ],
   "source": [
    "a.data"
   ]
  }
 ],
 "metadata": {
  "kernelspec": {
   "display_name": "Python 3.9.12 ('base')",
   "language": "python",
   "name": "python3"
  },
  "language_info": {
   "codemirror_mode": {
    "name": "ipython",
    "version": 3
   },
   "file_extension": ".py",
   "mimetype": "text/x-python",
   "name": "python",
   "nbconvert_exporter": "python",
   "pygments_lexer": "ipython3",
   "version": "3.9.12"
  },
  "orig_nbformat": 4,
  "vscode": {
   "interpreter": {
    "hash": "ad2bdc8ecc057115af97d19610ffacc2b4e99fae6737bb82f5d7fb13d2f2c186"
   }
  }
 },
 "nbformat": 4,
 "nbformat_minor": 2
}
